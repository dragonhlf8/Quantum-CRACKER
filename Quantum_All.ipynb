{
  "cells": [
    {
      "cell_type": "code",
      "execution_count": 1,
      "metadata": {
        "colab": {
          "base_uri": "https://localhost:8080/"
        },
        "id": "RVr7IMk3plF6",
        "outputId": "a40c6013-8bd4-47a4-e2de-0ab7768a521a"
      },
      "outputs": [
        {
          "output_type": "stream",
          "name": "stdout",
          "text": [
            "Mounted at /content/drive\n"
          ]
        }
      ],
      "source": [
        "from google.colab import drive\n",
        "drive.mount('/content/drive')"
      ]
    },
    {
      "cell_type": "code",
      "execution_count": 2,
      "metadata": {
        "colab": {
          "base_uri": "https://localhost:8080/"
        },
        "id": "8fitBkqCpqt4",
        "outputId": "1e516498-9cb9-4662-fb55-091079d2d0e5"
      },
      "outputs": [
        {
          "output_type": "stream",
          "name": "stdout",
          "text": [
            "Collecting base58\n",
            "  Downloading base58-2.1.1-py3-none-any.whl.metadata (3.1 kB)\n",
            "Downloading base58-2.1.1-py3-none-any.whl (5.6 kB)\n",
            "Installing collected packages: base58\n",
            "Successfully installed base58-2.1.1\n",
            "Collecting cirq.google\n",
            "  Downloading cirq_google-1.4.1-py3-none-any.whl.metadata (2.0 kB)\n",
            "Collecting cirq\n",
            "  Downloading cirq-1.4.1-py3-none-any.whl.metadata (7.4 kB)\n",
            "Collecting bitcoin\n",
            "  Downloading bitcoin-1.1.42.tar.gz (36 kB)\n",
            "  Preparing metadata (setup.py) ... \u001b[?25l\u001b[?25hdone\n",
            "Requirement already satisfied: google-api-core>=1.14.0 in /usr/local/lib/python3.10/dist-packages (from google-api-core[grpc]>=1.14.0->cirq.google) (2.19.2)\n",
            "Requirement already satisfied: proto-plus>=1.20.0 in /usr/local/lib/python3.10/dist-packages (from cirq.google) (1.25.0)\n",
            "Requirement already satisfied: protobuf<5.0.0,>=3.15.0 in /usr/local/lib/python3.10/dist-packages (from cirq.google) (4.25.5)\n",
            "Collecting cirq-core==1.4.1 (from cirq.google)\n",
            "  Downloading cirq_core-1.4.1-py3-none-any.whl.metadata (1.8 kB)\n",
            "Requirement already satisfied: attrs>=21.3.0 in /usr/local/lib/python3.10/dist-packages (from cirq-core==1.4.1->cirq.google) (24.2.0)\n",
            "Collecting duet>=0.2.8 (from cirq-core==1.4.1->cirq.google)\n",
            "  Downloading duet-0.2.9-py3-none-any.whl.metadata (2.3 kB)\n",
            "Requirement already satisfied: matplotlib~=3.0 in /usr/local/lib/python3.10/dist-packages (from cirq-core==1.4.1->cirq.google) (3.8.0)\n",
            "Requirement already satisfied: networkx>=2.4 in /usr/local/lib/python3.10/dist-packages (from cirq-core==1.4.1->cirq.google) (3.4.2)\n",
            "Requirement already satisfied: numpy~=1.22 in /usr/local/lib/python3.10/dist-packages (from cirq-core==1.4.1->cirq.google) (1.26.4)\n",
            "Requirement already satisfied: pandas in /usr/local/lib/python3.10/dist-packages (from cirq-core==1.4.1->cirq.google) (2.2.2)\n",
            "Collecting sortedcontainers~=2.0 (from cirq-core==1.4.1->cirq.google)\n",
            "  Downloading sortedcontainers-2.4.0-py2.py3-none-any.whl.metadata (10 kB)\n",
            "Requirement already satisfied: scipy~=1.0 in /usr/local/lib/python3.10/dist-packages (from cirq-core==1.4.1->cirq.google) (1.13.1)\n",
            "Requirement already satisfied: sympy in /usr/local/lib/python3.10/dist-packages (from cirq-core==1.4.1->cirq.google) (1.13.1)\n",
            "Requirement already satisfied: typing-extensions>=4.2 in /usr/local/lib/python3.10/dist-packages (from cirq-core==1.4.1->cirq.google) (4.12.2)\n",
            "Requirement already satisfied: tqdm in /usr/local/lib/python3.10/dist-packages (from cirq-core==1.4.1->cirq.google) (4.66.6)\n",
            "Collecting cirq-aqt==1.4.1 (from cirq)\n",
            "  Downloading cirq_aqt-1.4.1-py3-none-any.whl.metadata (1.6 kB)\n",
            "Collecting cirq-ionq==1.4.1 (from cirq)\n",
            "  Downloading cirq_ionq-1.4.1-py3-none-any.whl.metadata (1.6 kB)\n",
            "Collecting cirq-pasqal==1.4.1 (from cirq)\n",
            "  Downloading cirq_pasqal-1.4.1-py3-none-any.whl.metadata (1.6 kB)\n",
            "Collecting cirq-rigetti==1.4.1 (from cirq)\n",
            "  Downloading cirq_rigetti-1.4.1-py3-none-any.whl.metadata (1.7 kB)\n",
            "Collecting cirq-web==1.4.1 (from cirq)\n",
            "  Downloading cirq_web-1.4.1-py3-none-any.whl.metadata (2.6 kB)\n",
            "Requirement already satisfied: requests~=2.18 in /usr/local/lib/python3.10/dist-packages (from cirq-aqt==1.4.1->cirq) (2.32.3)\n",
            "Collecting pyquil<5.0.0,>=4.11.0 (from cirq-rigetti==1.4.1->cirq)\n",
            "  Downloading pyquil-4.15.0-py3-none-any.whl.metadata (10 kB)\n",
            "Requirement already satisfied: googleapis-common-protos<2.0.dev0,>=1.56.2 in /usr/local/lib/python3.10/dist-packages (from google-api-core>=1.14.0->google-api-core[grpc]>=1.14.0->cirq.google) (1.66.0)\n",
            "Requirement already satisfied: google-auth<3.0.dev0,>=2.14.1 in /usr/local/lib/python3.10/dist-packages (from google-api-core>=1.14.0->google-api-core[grpc]>=1.14.0->cirq.google) (2.27.0)\n",
            "Requirement already satisfied: grpcio<2.0dev,>=1.33.2 in /usr/local/lib/python3.10/dist-packages (from google-api-core[grpc]>=1.14.0->cirq.google) (1.68.1)\n",
            "Requirement already satisfied: grpcio-status<2.0.dev0,>=1.33.2 in /usr/local/lib/python3.10/dist-packages (from google-api-core[grpc]>=1.14.0->cirq.google) (1.62.3)\n",
            "Requirement already satisfied: cachetools<6.0,>=2.0.0 in /usr/local/lib/python3.10/dist-packages (from google-auth<3.0.dev0,>=2.14.1->google-api-core>=1.14.0->google-api-core[grpc]>=1.14.0->cirq.google) (5.5.0)\n",
            "Requirement already satisfied: pyasn1-modules>=0.2.1 in /usr/local/lib/python3.10/dist-packages (from google-auth<3.0.dev0,>=2.14.1->google-api-core>=1.14.0->google-api-core[grpc]>=1.14.0->cirq.google) (0.4.1)\n",
            "Requirement already satisfied: rsa<5,>=3.1.4 in /usr/local/lib/python3.10/dist-packages (from google-auth<3.0.dev0,>=2.14.1->google-api-core>=1.14.0->google-api-core[grpc]>=1.14.0->cirq.google) (4.9)\n",
            "Requirement already satisfied: contourpy>=1.0.1 in /usr/local/lib/python3.10/dist-packages (from matplotlib~=3.0->cirq-core==1.4.1->cirq.google) (1.3.1)\n",
            "Requirement already satisfied: cycler>=0.10 in /usr/local/lib/python3.10/dist-packages (from matplotlib~=3.0->cirq-core==1.4.1->cirq.google) (0.12.1)\n",
            "Requirement already satisfied: fonttools>=4.22.0 in /usr/local/lib/python3.10/dist-packages (from matplotlib~=3.0->cirq-core==1.4.1->cirq.google) (4.55.2)\n",
            "Requirement already satisfied: kiwisolver>=1.0.1 in /usr/local/lib/python3.10/dist-packages (from matplotlib~=3.0->cirq-core==1.4.1->cirq.google) (1.4.7)\n",
            "Requirement already satisfied: packaging>=20.0 in /usr/local/lib/python3.10/dist-packages (from matplotlib~=3.0->cirq-core==1.4.1->cirq.google) (24.2)\n",
            "Requirement already satisfied: pillow>=6.2.0 in /usr/local/lib/python3.10/dist-packages (from matplotlib~=3.0->cirq-core==1.4.1->cirq.google) (11.0.0)\n",
            "Requirement already satisfied: pyparsing>=2.3.1 in /usr/local/lib/python3.10/dist-packages (from matplotlib~=3.0->cirq-core==1.4.1->cirq.google) (3.2.0)\n",
            "Requirement already satisfied: python-dateutil>=2.7 in /usr/local/lib/python3.10/dist-packages (from matplotlib~=3.0->cirq-core==1.4.1->cirq.google) (2.8.2)\n",
            "Requirement already satisfied: deprecated<2.0.0,>=1.2.14 in /usr/local/lib/python3.10/dist-packages (from pyquil<5.0.0,>=4.11.0->cirq-rigetti==1.4.1->cirq) (1.2.15)\n",
            "Requirement already satisfied: matplotlib-inline<0.2.0,>=0.1.7 in /usr/local/lib/python3.10/dist-packages (from pyquil<5.0.0,>=4.11.0->cirq-rigetti==1.4.1->cirq) (0.1.7)\n",
            "Collecting packaging>=20.0 (from matplotlib~=3.0->cirq-core==1.4.1->cirq.google)\n",
            "  Downloading packaging-23.2-py3-none-any.whl.metadata (3.2 kB)\n",
            "Collecting qcs-sdk-python>=0.20.1 (from pyquil<5.0.0,>=4.11.0->cirq-rigetti==1.4.1->cirq)\n",
            "  Downloading qcs_sdk_python-0.21.4-cp310-cp310-manylinux_2_28_x86_64.whl.metadata (7.0 kB)\n",
            "Collecting quil>=0.13.2 (from pyquil<5.0.0,>=4.11.0->cirq-rigetti==1.4.1->cirq)\n",
            "  Downloading quil-0.13.2-cp310-cp310-manylinux_2_17_x86_64.manylinux2014_x86_64.whl.metadata (1.8 kB)\n",
            "Collecting rpcq<4.0.0,>=3.11.0 (from pyquil<5.0.0,>=4.11.0->cirq-rigetti==1.4.1->cirq)\n",
            "  Downloading rpcq-3.11.0.tar.gz (45 kB)\n",
            "\u001b[2K     \u001b[90m━━━━━━━━━━━━━━━━━━━━━━━━━━━━━━━━━━━━━━━━\u001b[0m \u001b[32m45.6/45.6 kB\u001b[0m \u001b[31m4.2 MB/s\u001b[0m eta \u001b[36m0:00:00\u001b[0m\n",
            "\u001b[?25h  Preparing metadata (setup.py) ... \u001b[?25l\u001b[?25hdone\n",
            "Collecting types-deprecated<2.0.0.0,>=1.2.9.3 (from pyquil<5.0.0,>=4.11.0->cirq-rigetti==1.4.1->cirq)\n",
            "  Downloading types_Deprecated-1.2.15.20241117-py3-none-any.whl.metadata (1.8 kB)\n",
            "Requirement already satisfied: charset-normalizer<4,>=2 in /usr/local/lib/python3.10/dist-packages (from requests~=2.18->cirq-aqt==1.4.1->cirq) (3.4.0)\n",
            "Requirement already satisfied: idna<4,>=2.5 in /usr/local/lib/python3.10/dist-packages (from requests~=2.18->cirq-aqt==1.4.1->cirq) (3.10)\n",
            "Requirement already satisfied: urllib3<3,>=1.21.1 in /usr/local/lib/python3.10/dist-packages (from requests~=2.18->cirq-aqt==1.4.1->cirq) (2.2.3)\n",
            "Requirement already satisfied: certifi>=2017.4.17 in /usr/local/lib/python3.10/dist-packages (from requests~=2.18->cirq-aqt==1.4.1->cirq) (2024.8.30)\n",
            "Requirement already satisfied: pytz>=2020.1 in /usr/local/lib/python3.10/dist-packages (from pandas->cirq-core==1.4.1->cirq.google) (2024.2)\n",
            "Requirement already satisfied: tzdata>=2022.7 in /usr/local/lib/python3.10/dist-packages (from pandas->cirq-core==1.4.1->cirq.google) (2024.2)\n",
            "Requirement already satisfied: mpmath<1.4,>=1.1.0 in /usr/local/lib/python3.10/dist-packages (from sympy->cirq-core==1.4.1->cirq.google) (1.3.0)\n",
            "Requirement already satisfied: wrapt<2,>=1.10 in /usr/local/lib/python3.10/dist-packages (from deprecated<2.0.0,>=1.2.14->pyquil<5.0.0,>=4.11.0->cirq-rigetti==1.4.1->cirq) (1.17.0)\n",
            "Requirement already satisfied: traitlets in /usr/local/lib/python3.10/dist-packages (from matplotlib-inline<0.2.0,>=0.1.7->pyquil<5.0.0,>=4.11.0->cirq-rigetti==1.4.1->cirq) (5.7.1)\n",
            "Requirement already satisfied: pyasn1<0.7.0,>=0.4.6 in /usr/local/lib/python3.10/dist-packages (from pyasn1-modules>=0.2.1->google-auth<3.0.dev0,>=2.14.1->google-api-core>=1.14.0->google-api-core[grpc]>=1.14.0->cirq.google) (0.6.1)\n",
            "Requirement already satisfied: six>=1.5 in /usr/local/lib/python3.10/dist-packages (from python-dateutil>=2.7->matplotlib~=3.0->cirq-core==1.4.1->cirq.google) (1.17.0)\n",
            "Collecting qcs-api-client-common>=0.10.0 (from qcs-sdk-python>=0.20.1->pyquil<5.0.0,>=4.11.0->cirq-rigetti==1.4.1->cirq)\n",
            "  Downloading qcs_api_client_common-0.10.0-cp310-cp310-manylinux_2_28_x86_64.whl.metadata (2.5 kB)\n",
            "Requirement already satisfied: msgpack<2.0,>=0.6 in /usr/local/lib/python3.10/dist-packages (from rpcq<4.0.0,>=3.11.0->pyquil<5.0.0,>=4.11.0->cirq-rigetti==1.4.1->cirq) (1.1.0)\n",
            "Collecting python-rapidjson (from rpcq<4.0.0,>=3.11.0->pyquil<5.0.0,>=4.11.0->cirq-rigetti==1.4.1->cirq)\n",
            "  Downloading python_rapidjson-1.20-cp310-cp310-manylinux_2_17_x86_64.manylinux2014_x86_64.whl.metadata (22 kB)\n",
            "Requirement already satisfied: pyzmq>=17 in /usr/local/lib/python3.10/dist-packages (from rpcq<4.0.0,>=3.11.0->pyquil<5.0.0,>=4.11.0->cirq-rigetti==1.4.1->cirq) (24.0.1)\n",
            "Collecting ruamel.yaml (from rpcq<4.0.0,>=3.11.0->pyquil<5.0.0,>=4.11.0->cirq-rigetti==1.4.1->cirq)\n",
            "  Downloading ruamel.yaml-0.18.6-py3-none-any.whl.metadata (23 kB)\n",
            "Collecting grpc-interceptor>=0.15.0 (from qcs-api-client-common>=0.10.0->qcs-sdk-python>=0.20.1->pyquil<5.0.0,>=4.11.0->cirq-rigetti==1.4.1->cirq)\n",
            "  Downloading grpc_interceptor-0.15.4-py3-none-any.whl.metadata (8.4 kB)\n",
            "Requirement already satisfied: httpx>=0.27.0 in /usr/local/lib/python3.10/dist-packages (from qcs-api-client-common>=0.10.0->qcs-sdk-python>=0.20.1->pyquil<5.0.0,>=4.11.0->cirq-rigetti==1.4.1->cirq) (0.28.1)\n",
            "Collecting ruamel.yaml.clib>=0.2.7 (from ruamel.yaml->rpcq<4.0.0,>=3.11.0->pyquil<5.0.0,>=4.11.0->cirq-rigetti==1.4.1->cirq)\n",
            "  Downloading ruamel.yaml.clib-0.2.12-cp310-cp310-manylinux_2_17_x86_64.manylinux2014_x86_64.whl.metadata (2.7 kB)\n",
            "Requirement already satisfied: anyio in /usr/local/lib/python3.10/dist-packages (from httpx>=0.27.0->qcs-api-client-common>=0.10.0->qcs-sdk-python>=0.20.1->pyquil<5.0.0,>=4.11.0->cirq-rigetti==1.4.1->cirq) (3.7.1)\n",
            "Requirement already satisfied: httpcore==1.* in /usr/local/lib/python3.10/dist-packages (from httpx>=0.27.0->qcs-api-client-common>=0.10.0->qcs-sdk-python>=0.20.1->pyquil<5.0.0,>=4.11.0->cirq-rigetti==1.4.1->cirq) (1.0.7)\n",
            "Requirement already satisfied: h11<0.15,>=0.13 in /usr/local/lib/python3.10/dist-packages (from httpcore==1.*->httpx>=0.27.0->qcs-api-client-common>=0.10.0->qcs-sdk-python>=0.20.1->pyquil<5.0.0,>=4.11.0->cirq-rigetti==1.4.1->cirq) (0.14.0)\n",
            "Requirement already satisfied: sniffio>=1.1 in /usr/local/lib/python3.10/dist-packages (from anyio->httpx>=0.27.0->qcs-api-client-common>=0.10.0->qcs-sdk-python>=0.20.1->pyquil<5.0.0,>=4.11.0->cirq-rigetti==1.4.1->cirq) (1.3.1)\n",
            "Requirement already satisfied: exceptiongroup in /usr/local/lib/python3.10/dist-packages (from anyio->httpx>=0.27.0->qcs-api-client-common>=0.10.0->qcs-sdk-python>=0.20.1->pyquil<5.0.0,>=4.11.0->cirq-rigetti==1.4.1->cirq) (1.2.2)\n",
            "Downloading cirq_google-1.4.1-py3-none-any.whl (532 kB)\n",
            "\u001b[2K   \u001b[90m━━━━━━━━━━━━━━━━━━━━━━━━━━━━━━━━━━━━━━━━\u001b[0m \u001b[32m532.7/532.7 kB\u001b[0m \u001b[31m44.8 MB/s\u001b[0m eta \u001b[36m0:00:00\u001b[0m\n",
            "\u001b[?25hDownloading cirq_core-1.4.1-py3-none-any.whl (1.9 MB)\n",
            "\u001b[2K   \u001b[90m━━━━━━━━━━━━━━━━━━━━━━━━━━━━━━━━━━━━━━━━\u001b[0m \u001b[32m1.9/1.9 MB\u001b[0m \u001b[31m81.6 MB/s\u001b[0m eta \u001b[36m0:00:00\u001b[0m\n",
            "\u001b[?25hDownloading cirq-1.4.1-py3-none-any.whl (8.0 kB)\n",
            "Downloading cirq_aqt-1.4.1-py3-none-any.whl (30 kB)\n",
            "Downloading cirq_ionq-1.4.1-py3-none-any.whl (60 kB)\n",
            "\u001b[2K   \u001b[90m━━━━━━━━━━━━━━━━━━━━━━━━━━━━━━━━━━━━━━━━\u001b[0m \u001b[32m60.5/60.5 kB\u001b[0m \u001b[31m6.3 MB/s\u001b[0m eta \u001b[36m0:00:00\u001b[0m\n",
            "\u001b[?25hDownloading cirq_pasqal-1.4.1-py3-none-any.whl (31 kB)\n",
            "Downloading cirq_rigetti-1.4.1-py3-none-any.whl (69 kB)\n",
            "\u001b[2K   \u001b[90m━━━━━━━━━━━━━━━━━━━━━━━━━━━━━━━━━━━━━━━━\u001b[0m \u001b[32m69.3/69.3 kB\u001b[0m \u001b[31m7.2 MB/s\u001b[0m eta \u001b[36m0:00:00\u001b[0m\n",
            "\u001b[?25hDownloading cirq_web-1.4.1-py3-none-any.whl (596 kB)\n",
            "\u001b[2K   \u001b[90m━━━━━━━━━━━━━━━━━━━━━━━━━━━━━━━━━━━━━━━━\u001b[0m \u001b[32m596.5/596.5 kB\u001b[0m \u001b[31m27.9 MB/s\u001b[0m eta \u001b[36m0:00:00\u001b[0m\n",
            "\u001b[?25hDownloading duet-0.2.9-py3-none-any.whl (29 kB)\n",
            "Downloading pyquil-4.15.0-py3-none-any.whl (202 kB)\n",
            "\u001b[2K   \u001b[90m━━━━━━━━━━━━━━━━━━━━━━━━━━━━━━━━━━━━━━━━\u001b[0m \u001b[32m202.9/202.9 kB\u001b[0m \u001b[31m19.4 MB/s\u001b[0m eta \u001b[36m0:00:00\u001b[0m\n",
            "\u001b[?25hDownloading sortedcontainers-2.4.0-py2.py3-none-any.whl (29 kB)\n",
            "Downloading packaging-23.2-py3-none-any.whl (53 kB)\n",
            "\u001b[2K   \u001b[90m━━━━━━━━━━━━━━━━━━━━━━━━━━━━━━━━━━━━━━━━\u001b[0m \u001b[32m53.0/53.0 kB\u001b[0m \u001b[31m6.0 MB/s\u001b[0m eta \u001b[36m0:00:00\u001b[0m\n",
            "\u001b[?25hDownloading qcs_sdk_python-0.21.4-cp310-cp310-manylinux_2_28_x86_64.whl (6.4 MB)\n",
            "\u001b[2K   \u001b[90m━━━━━━━━━━━━━━━━━━━━━━━━━━━━━━━━━━━━━━━━\u001b[0m \u001b[32m6.4/6.4 MB\u001b[0m \u001b[31m97.4 MB/s\u001b[0m eta \u001b[36m0:00:00\u001b[0m\n",
            "\u001b[?25hDownloading quil-0.13.2-cp310-cp310-manylinux_2_17_x86_64.manylinux2014_x86_64.whl (2.2 MB)\n",
            "\u001b[2K   \u001b[90m━━━━━━━━━━━━━━━━━━━━━━━━━━━━━━━━━━━━━━━━\u001b[0m \u001b[32m2.2/2.2 MB\u001b[0m \u001b[31m33.3 MB/s\u001b[0m eta \u001b[36m0:00:00\u001b[0m\n",
            "\u001b[?25hDownloading types_Deprecated-1.2.15.20241117-py3-none-any.whl (3.8 kB)\n",
            "Downloading qcs_api_client_common-0.10.0-cp310-cp310-manylinux_2_28_x86_64.whl (2.9 MB)\n",
            "\u001b[2K   \u001b[90m━━━━━━━━━━━━━━━━━━━━━━━━━━━━━━━━━━━━━━━━\u001b[0m \u001b[32m2.9/2.9 MB\u001b[0m \u001b[31m98.5 MB/s\u001b[0m eta \u001b[36m0:00:00\u001b[0m\n",
            "\u001b[?25hDownloading python_rapidjson-1.20-cp310-cp310-manylinux_2_17_x86_64.manylinux2014_x86_64.whl (1.7 MB)\n",
            "\u001b[2K   \u001b[90m━━━━━━━━━━━━━━━━━━━━━━━━━━━━━━━━━━━━━━━━\u001b[0m \u001b[32m1.7/1.7 MB\u001b[0m \u001b[31m83.6 MB/s\u001b[0m eta \u001b[36m0:00:00\u001b[0m\n",
            "\u001b[?25hDownloading ruamel.yaml-0.18.6-py3-none-any.whl (117 kB)\n",
            "\u001b[2K   \u001b[90m━━━━━━━━━━━━━━━━━━━━━━━━━━━━━━━━━━━━━━━━\u001b[0m \u001b[32m117.8/117.8 kB\u001b[0m \u001b[31m13.2 MB/s\u001b[0m eta \u001b[36m0:00:00\u001b[0m\n",
            "\u001b[?25hDownloading grpc_interceptor-0.15.4-py3-none-any.whl (20 kB)\n",
            "Downloading ruamel.yaml.clib-0.2.12-cp310-cp310-manylinux_2_17_x86_64.manylinux2014_x86_64.whl (722 kB)\n",
            "\u001b[2K   \u001b[90m━━━━━━━━━━━━━━━━━━━━━━━━━━━━━━━━━━━━━━━━\u001b[0m \u001b[32m722.2/722.2 kB\u001b[0m \u001b[31m54.6 MB/s\u001b[0m eta \u001b[36m0:00:00\u001b[0m\n",
            "\u001b[?25hBuilding wheels for collected packages: bitcoin, rpcq\n",
            "  Building wheel for bitcoin (setup.py) ... \u001b[?25l\u001b[?25hdone\n",
            "  Created wheel for bitcoin: filename=bitcoin-1.1.42-py3-none-any.whl size=44403 sha256=e2ab47ff6f2685c1e9665f17aedde6fd486563d67612d74509367a6b9801cde7\n",
            "  Stored in directory: /root/.cache/pip/wheels/a3/98/a1/0d53f5b714680bb5dffc2db778c221b1f5c54bc4a3a779c8c5\n",
            "  Building wheel for rpcq (setup.py) ... \u001b[?25l\u001b[?25hdone\n",
            "  Created wheel for rpcq: filename=rpcq-3.11.0-py3-none-any.whl size=45967 sha256=fa4e6809975b7ea4b778a8dbbf5b6a557d664cea87ddcc54bfaf8bf1bb2006c5\n",
            "  Stored in directory: /root/.cache/pip/wheels/91/97/0a/b384d94155345284ec00712ab814cbfb5bc2b631080b4fa4c3\n",
            "Successfully built bitcoin rpcq\n",
            "Installing collected packages: sortedcontainers, bitcoin, types-deprecated, ruamel.yaml.clib, quil, python-rapidjson, packaging, grpc-interceptor, duet, ruamel.yaml, rpcq, qcs-api-client-common, cirq-core, qcs-sdk-python, cirq-web, cirq-pasqal, cirq-ionq, cirq-aqt, pyquil, cirq.google, cirq-rigetti, cirq\n",
            "  Attempting uninstall: packaging\n",
            "    Found existing installation: packaging 24.2\n",
            "    Uninstalling packaging-24.2:\n",
            "      Successfully uninstalled packaging-24.2\n",
            "Successfully installed bitcoin-1.1.42 cirq-1.4.1 cirq-aqt-1.4.1 cirq-core-1.4.1 cirq-ionq-1.4.1 cirq-pasqal-1.4.1 cirq-rigetti-1.4.1 cirq-web-1.4.1 cirq.google-1.4.1 duet-0.2.9 grpc-interceptor-0.15.4 packaging-23.2 pyquil-4.15.0 python-rapidjson-1.20 qcs-api-client-common-0.10.0 qcs-sdk-python-0.21.4 quil-0.13.2 rpcq-3.11.0 ruamel.yaml-0.18.6 ruamel.yaml.clib-0.2.12 sortedcontainers-2.4.0 types-deprecated-1.2.15.20241117\n"
          ]
        }
      ],
      "source": [
        "!pip install base58 && pip3 install cirq.google cirq bitcoin"
      ]
    },
    {
      "cell_type": "code",
      "execution_count": 3,
      "metadata": {
        "colab": {
          "base_uri": "https://localhost:8080/"
        },
        "id": "-Zao6YEgqkK2",
        "outputId": "3782deee-a196-4783-8662-3d280a70b77d"
      },
      "outputs": [
        {
          "output_type": "stream",
          "name": "stdout",
          "text": [
            "Requirement already satisfied: cirq_google in /usr/local/lib/python3.10/dist-packages (1.4.1)\n",
            "Requirement already satisfied: google-api-core>=1.14.0 in /usr/local/lib/python3.10/dist-packages (from google-api-core[grpc]>=1.14.0->cirq_google) (2.19.2)\n",
            "Requirement already satisfied: proto-plus>=1.20.0 in /usr/local/lib/python3.10/dist-packages (from cirq_google) (1.25.0)\n",
            "Requirement already satisfied: protobuf<5.0.0,>=3.15.0 in /usr/local/lib/python3.10/dist-packages (from cirq_google) (4.25.5)\n",
            "Requirement already satisfied: cirq-core==1.4.1 in /usr/local/lib/python3.10/dist-packages (from cirq_google) (1.4.1)\n",
            "Requirement already satisfied: attrs>=21.3.0 in /usr/local/lib/python3.10/dist-packages (from cirq-core==1.4.1->cirq_google) (24.2.0)\n",
            "Requirement already satisfied: duet>=0.2.8 in /usr/local/lib/python3.10/dist-packages (from cirq-core==1.4.1->cirq_google) (0.2.9)\n",
            "Requirement already satisfied: matplotlib~=3.0 in /usr/local/lib/python3.10/dist-packages (from cirq-core==1.4.1->cirq_google) (3.8.0)\n",
            "Requirement already satisfied: networkx>=2.4 in /usr/local/lib/python3.10/dist-packages (from cirq-core==1.4.1->cirq_google) (3.4.2)\n",
            "Requirement already satisfied: numpy~=1.22 in /usr/local/lib/python3.10/dist-packages (from cirq-core==1.4.1->cirq_google) (1.26.4)\n",
            "Requirement already satisfied: pandas in /usr/local/lib/python3.10/dist-packages (from cirq-core==1.4.1->cirq_google) (2.2.2)\n",
            "Requirement already satisfied: sortedcontainers~=2.0 in /usr/local/lib/python3.10/dist-packages (from cirq-core==1.4.1->cirq_google) (2.4.0)\n",
            "Requirement already satisfied: scipy~=1.0 in /usr/local/lib/python3.10/dist-packages (from cirq-core==1.4.1->cirq_google) (1.13.1)\n",
            "Requirement already satisfied: sympy in /usr/local/lib/python3.10/dist-packages (from cirq-core==1.4.1->cirq_google) (1.13.1)\n",
            "Requirement already satisfied: typing-extensions>=4.2 in /usr/local/lib/python3.10/dist-packages (from cirq-core==1.4.1->cirq_google) (4.12.2)\n",
            "Requirement already satisfied: tqdm in /usr/local/lib/python3.10/dist-packages (from cirq-core==1.4.1->cirq_google) (4.66.6)\n",
            "Requirement already satisfied: googleapis-common-protos<2.0.dev0,>=1.56.2 in /usr/local/lib/python3.10/dist-packages (from google-api-core>=1.14.0->google-api-core[grpc]>=1.14.0->cirq_google) (1.66.0)\n",
            "Requirement already satisfied: google-auth<3.0.dev0,>=2.14.1 in /usr/local/lib/python3.10/dist-packages (from google-api-core>=1.14.0->google-api-core[grpc]>=1.14.0->cirq_google) (2.27.0)\n",
            "Requirement already satisfied: requests<3.0.0.dev0,>=2.18.0 in /usr/local/lib/python3.10/dist-packages (from google-api-core>=1.14.0->google-api-core[grpc]>=1.14.0->cirq_google) (2.32.3)\n",
            "Requirement already satisfied: grpcio<2.0dev,>=1.33.2 in /usr/local/lib/python3.10/dist-packages (from google-api-core[grpc]>=1.14.0->cirq_google) (1.68.1)\n",
            "Requirement already satisfied: grpcio-status<2.0.dev0,>=1.33.2 in /usr/local/lib/python3.10/dist-packages (from google-api-core[grpc]>=1.14.0->cirq_google) (1.62.3)\n",
            "Requirement already satisfied: cachetools<6.0,>=2.0.0 in /usr/local/lib/python3.10/dist-packages (from google-auth<3.0.dev0,>=2.14.1->google-api-core>=1.14.0->google-api-core[grpc]>=1.14.0->cirq_google) (5.5.0)\n",
            "Requirement already satisfied: pyasn1-modules>=0.2.1 in /usr/local/lib/python3.10/dist-packages (from google-auth<3.0.dev0,>=2.14.1->google-api-core>=1.14.0->google-api-core[grpc]>=1.14.0->cirq_google) (0.4.1)\n",
            "Requirement already satisfied: rsa<5,>=3.1.4 in /usr/local/lib/python3.10/dist-packages (from google-auth<3.0.dev0,>=2.14.1->google-api-core>=1.14.0->google-api-core[grpc]>=1.14.0->cirq_google) (4.9)\n",
            "Requirement already satisfied: contourpy>=1.0.1 in /usr/local/lib/python3.10/dist-packages (from matplotlib~=3.0->cirq-core==1.4.1->cirq_google) (1.3.1)\n",
            "Requirement already satisfied: cycler>=0.10 in /usr/local/lib/python3.10/dist-packages (from matplotlib~=3.0->cirq-core==1.4.1->cirq_google) (0.12.1)\n",
            "Requirement already satisfied: fonttools>=4.22.0 in /usr/local/lib/python3.10/dist-packages (from matplotlib~=3.0->cirq-core==1.4.1->cirq_google) (4.55.2)\n",
            "Requirement already satisfied: kiwisolver>=1.0.1 in /usr/local/lib/python3.10/dist-packages (from matplotlib~=3.0->cirq-core==1.4.1->cirq_google) (1.4.7)\n",
            "Requirement already satisfied: packaging>=20.0 in /usr/local/lib/python3.10/dist-packages (from matplotlib~=3.0->cirq-core==1.4.1->cirq_google) (23.2)\n",
            "Requirement already satisfied: pillow>=6.2.0 in /usr/local/lib/python3.10/dist-packages (from matplotlib~=3.0->cirq-core==1.4.1->cirq_google) (11.0.0)\n",
            "Requirement already satisfied: pyparsing>=2.3.1 in /usr/local/lib/python3.10/dist-packages (from matplotlib~=3.0->cirq-core==1.4.1->cirq_google) (3.2.0)\n",
            "Requirement already satisfied: python-dateutil>=2.7 in /usr/local/lib/python3.10/dist-packages (from matplotlib~=3.0->cirq-core==1.4.1->cirq_google) (2.8.2)\n",
            "Requirement already satisfied: charset-normalizer<4,>=2 in /usr/local/lib/python3.10/dist-packages (from requests<3.0.0.dev0,>=2.18.0->google-api-core>=1.14.0->google-api-core[grpc]>=1.14.0->cirq_google) (3.4.0)\n",
            "Requirement already satisfied: idna<4,>=2.5 in /usr/local/lib/python3.10/dist-packages (from requests<3.0.0.dev0,>=2.18.0->google-api-core>=1.14.0->google-api-core[grpc]>=1.14.0->cirq_google) (3.10)\n",
            "Requirement already satisfied: urllib3<3,>=1.21.1 in /usr/local/lib/python3.10/dist-packages (from requests<3.0.0.dev0,>=2.18.0->google-api-core>=1.14.0->google-api-core[grpc]>=1.14.0->cirq_google) (2.2.3)\n",
            "Requirement already satisfied: certifi>=2017.4.17 in /usr/local/lib/python3.10/dist-packages (from requests<3.0.0.dev0,>=2.18.0->google-api-core>=1.14.0->google-api-core[grpc]>=1.14.0->cirq_google) (2024.8.30)\n",
            "Requirement already satisfied: pytz>=2020.1 in /usr/local/lib/python3.10/dist-packages (from pandas->cirq-core==1.4.1->cirq_google) (2024.2)\n",
            "Requirement already satisfied: tzdata>=2022.7 in /usr/local/lib/python3.10/dist-packages (from pandas->cirq-core==1.4.1->cirq_google) (2024.2)\n",
            "Requirement already satisfied: mpmath<1.4,>=1.1.0 in /usr/local/lib/python3.10/dist-packages (from sympy->cirq-core==1.4.1->cirq_google) (1.3.0)\n",
            "Requirement already satisfied: pyasn1<0.7.0,>=0.4.6 in /usr/local/lib/python3.10/dist-packages (from pyasn1-modules>=0.2.1->google-auth<3.0.dev0,>=2.14.1->google-api-core>=1.14.0->google-api-core[grpc]>=1.14.0->cirq_google) (0.6.1)\n",
            "Requirement already satisfied: six>=1.5 in /usr/local/lib/python3.10/dist-packages (from python-dateutil>=2.7->matplotlib~=3.0->cirq-core==1.4.1->cirq_google) (1.17.0)\n"
          ]
        }
      ],
      "source": [
        "!pip3 install cirq_google"
      ]
    },
    {
      "cell_type": "code",
      "execution_count": 4,
      "metadata": {
        "colab": {
          "base_uri": "https://localhost:8080/"
        },
        "id": "7eyT6zCga5Fl",
        "outputId": "7f7a097e-287c-4078-e399-c0e3057f2204"
      },
      "outputs": [
        {
          "output_type": "stream",
          "name": "stdout",
          "text": [
            "Requirement already satisfied: base58 in /usr/local/lib/python3.10/dist-packages (2.1.1)\n",
            "Collecting parameters\n",
            "  Downloading parameters-0.2.1.tar.gz (38 kB)\n",
            "  Preparing metadata (setup.py) ... \u001b[?25l\u001b[?25hdone\n",
            "Building wheels for collected packages: parameters\n",
            "  Building wheel for parameters (setup.py) ... \u001b[?25l\u001b[?25hdone\n",
            "  Created wheel for parameters: filename=parameters-0.2.1-py3-none-any.whl size=24747 sha256=249f98ac6832e0e708b16484a7f49b317f05ceaa9e2d5687e8bd3eef7144e496\n",
            "  Stored in directory: /root/.cache/pip/wheels/6c/6d/66/480b6c919eda69e55fe79ccf9d278a3d48e4d2737b5ad9ff85\n",
            "Successfully built parameters\n",
            "Installing collected packages: parameters\n",
            "Successfully installed parameters-0.2.1\n",
            "Collecting Crypto\n",
            "  Downloading crypto-1.4.1-py2.py3-none-any.whl.metadata (3.4 kB)\n",
            "Collecting Naked (from Crypto)\n",
            "  Downloading Naked-0.1.32-py2.py3-none-any.whl.metadata (931 bytes)\n",
            "Collecting shellescape (from Crypto)\n",
            "  Downloading shellescape-3.8.1-py2.py3-none-any.whl.metadata (2.8 kB)\n",
            "Requirement already satisfied: requests in /usr/local/lib/python3.10/dist-packages (from Naked->Crypto) (2.32.3)\n",
            "Requirement already satisfied: pyyaml in /usr/local/lib/python3.10/dist-packages (from Naked->Crypto) (6.0.2)\n",
            "Requirement already satisfied: charset-normalizer<4,>=2 in /usr/local/lib/python3.10/dist-packages (from requests->Naked->Crypto) (3.4.0)\n",
            "Requirement already satisfied: idna<4,>=2.5 in /usr/local/lib/python3.10/dist-packages (from requests->Naked->Crypto) (3.10)\n",
            "Requirement already satisfied: urllib3<3,>=1.21.1 in /usr/local/lib/python3.10/dist-packages (from requests->Naked->Crypto) (2.2.3)\n",
            "Requirement already satisfied: certifi>=2017.4.17 in /usr/local/lib/python3.10/dist-packages (from requests->Naked->Crypto) (2024.8.30)\n",
            "Downloading crypto-1.4.1-py2.py3-none-any.whl (18 kB)\n",
            "Downloading Naked-0.1.32-py2.py3-none-any.whl (587 kB)\n",
            "\u001b[2K   \u001b[90m━━━━━━━━━━━━━━━━━━━━━━━━━━━━━━━━━━━━━━━━\u001b[0m \u001b[32m587.7/587.7 kB\u001b[0m \u001b[31m34.3 MB/s\u001b[0m eta \u001b[36m0:00:00\u001b[0m\n",
            "\u001b[?25hDownloading shellescape-3.8.1-py2.py3-none-any.whl (3.1 kB)\n",
            "Installing collected packages: shellescape, Naked, Crypto\n",
            "Successfully installed Crypto-1.4.1 Naked-0.1.32 shellescape-3.8.1\n",
            "Collecting pycryptodome\n",
            "  Downloading pycryptodome-3.21.0-cp36-abi3-manylinux_2_17_x86_64.manylinux2014_x86_64.whl.metadata (3.4 kB)\n",
            "Downloading pycryptodome-3.21.0-cp36-abi3-manylinux_2_17_x86_64.manylinux2014_x86_64.whl (2.3 MB)\n",
            "\u001b[2K   \u001b[90m━━━━━━━━━━━━━━━━━━━━━━━━━━━━━━━━━━━━━━━━\u001b[0m \u001b[32m2.3/2.3 MB\u001b[0m \u001b[31m78.1 MB/s\u001b[0m eta \u001b[36m0:00:00\u001b[0m\n",
            "\u001b[?25hInstalling collected packages: pycryptodome\n",
            "Successfully installed pycryptodome-3.21.0\n",
            "Requirement already satisfied: Cryptography in /usr/local/lib/python3.10/dist-packages (43.0.3)\n",
            "Requirement already satisfied: cffi>=1.12 in /usr/local/lib/python3.10/dist-packages (from Cryptography) (1.17.1)\n",
            "Requirement already satisfied: pycparser in /usr/local/lib/python3.10/dist-packages (from cffi>=1.12->Cryptography) (2.22)\n",
            "Requirement already satisfied: bitcoin in /usr/local/lib/python3.10/dist-packages (1.1.42)\n",
            "Collecting ecdsa\n",
            "  Downloading ecdsa-0.19.0-py2.py3-none-any.whl.metadata (29 kB)\n",
            "Requirement already satisfied: six>=1.9.0 in /usr/local/lib/python3.10/dist-packages (from ecdsa) (1.17.0)\n",
            "Downloading ecdsa-0.19.0-py2.py3-none-any.whl (149 kB)\n",
            "\u001b[2K   \u001b[90m━━━━━━━━━━━━━━━━━━━━━━━━━━━━━━━━━━━━━━━━\u001b[0m \u001b[32m149.3/149.3 kB\u001b[0m \u001b[31m13.4 MB/s\u001b[0m eta \u001b[36m0:00:00\u001b[0m\n",
            "\u001b[?25hInstalling collected packages: ecdsa\n",
            "Successfully installed ecdsa-0.19.0\n"
          ]
        }
      ],
      "source": [
        "!pip install base58 && pip3 install parameters && pip3 install Crypto && pip install pycryptodome && pip install Cryptography && pip install bitcoin && pip install ecdsa"
      ]
    },
    {
      "cell_type": "code",
      "execution_count": 5,
      "metadata": {
        "colab": {
          "base_uri": "https://localhost:8080/"
        },
        "id": "zzm3dBLKdYLE",
        "outputId": "c17acdf1-0f79-43d0-a76b-5e4cfaf0a1b4"
      },
      "outputs": [
        {
          "output_type": "stream",
          "name": "stdout",
          "text": [
            "Collecting qiskit_ibm_runtime\n",
            "  Downloading qiskit_ibm_runtime-0.34.0-py3-none-any.whl.metadata (3.0 kB)\n",
            "Requirement already satisfied: requests>=2.19 in /usr/local/lib/python3.10/dist-packages (from qiskit_ibm_runtime) (2.32.3)\n",
            "Collecting requests-ntlm>=1.1.0 (from qiskit_ibm_runtime)\n",
            "  Downloading requests_ntlm-1.3.0-py3-none-any.whl.metadata (2.4 kB)\n",
            "Requirement already satisfied: numpy>=1.13 in /usr/local/lib/python3.10/dist-packages (from qiskit_ibm_runtime) (1.26.4)\n",
            "Requirement already satisfied: urllib3>=1.21.1 in /usr/local/lib/python3.10/dist-packages (from qiskit_ibm_runtime) (2.2.3)\n",
            "Requirement already satisfied: python-dateutil>=2.8.0 in /usr/local/lib/python3.10/dist-packages (from qiskit_ibm_runtime) (2.8.2)\n",
            "Requirement already satisfied: websocket-client>=1.5.1 in /usr/local/lib/python3.10/dist-packages (from qiskit_ibm_runtime) (1.8.0)\n",
            "Collecting ibm-platform-services>=0.22.6 (from qiskit_ibm_runtime)\n",
            "  Downloading ibm_platform_services-0.59.0-py3-none-any.whl.metadata (9.0 kB)\n",
            "Collecting pydantic<2.10,>=2.5.0 (from qiskit_ibm_runtime)\n",
            "  Downloading pydantic-2.9.2-py3-none-any.whl.metadata (149 kB)\n",
            "\u001b[2K     \u001b[90m━━━━━━━━━━━━━━━━━━━━━━━━━━━━━━━━━━━━━━━━\u001b[0m \u001b[32m149.4/149.4 kB\u001b[0m \u001b[31m12.4 MB/s\u001b[0m eta \u001b[36m0:00:00\u001b[0m\n",
            "\u001b[?25hCollecting qiskit>=1.1.0 (from qiskit_ibm_runtime)\n",
            "  Downloading qiskit-1.3.0-cp39-abi3-manylinux_2_17_x86_64.manylinux2014_x86_64.whl.metadata (12 kB)\n",
            "Collecting ibm-cloud-sdk-core<4.0.0,>=3.22.0 (from ibm-platform-services>=0.22.6->qiskit_ibm_runtime)\n",
            "  Downloading ibm_cloud_sdk_core-3.22.0-py3-none-any.whl.metadata (8.6 kB)\n",
            "Requirement already satisfied: annotated-types>=0.6.0 in /usr/local/lib/python3.10/dist-packages (from pydantic<2.10,>=2.5.0->qiskit_ibm_runtime) (0.7.0)\n",
            "Collecting pydantic-core==2.23.4 (from pydantic<2.10,>=2.5.0->qiskit_ibm_runtime)\n",
            "  Downloading pydantic_core-2.23.4-cp310-cp310-manylinux_2_17_x86_64.manylinux2014_x86_64.whl.metadata (6.6 kB)\n",
            "Requirement already satisfied: typing-extensions>=4.6.1 in /usr/local/lib/python3.10/dist-packages (from pydantic<2.10,>=2.5.0->qiskit_ibm_runtime) (4.12.2)\n",
            "Requirement already satisfied: six>=1.5 in /usr/local/lib/python3.10/dist-packages (from python-dateutil>=2.8.0->qiskit_ibm_runtime) (1.17.0)\n",
            "Collecting rustworkx>=0.15.0 (from qiskit>=1.1.0->qiskit_ibm_runtime)\n",
            "  Downloading rustworkx-0.15.1-cp38-abi3-manylinux_2_17_x86_64.manylinux2014_x86_64.whl.metadata (9.9 kB)\n",
            "Requirement already satisfied: scipy>=1.5 in /usr/local/lib/python3.10/dist-packages (from qiskit>=1.1.0->qiskit_ibm_runtime) (1.13.1)\n",
            "Requirement already satisfied: sympy>=1.3 in /usr/local/lib/python3.10/dist-packages (from qiskit>=1.1.0->qiskit_ibm_runtime) (1.13.1)\n",
            "Collecting dill>=0.3 (from qiskit>=1.1.0->qiskit_ibm_runtime)\n",
            "  Downloading dill-0.3.9-py3-none-any.whl.metadata (10 kB)\n",
            "Collecting stevedore>=3.0.0 (from qiskit>=1.1.0->qiskit_ibm_runtime)\n",
            "  Downloading stevedore-5.4.0-py3-none-any.whl.metadata (2.3 kB)\n",
            "Collecting symengine<0.14,>=0.11 (from qiskit>=1.1.0->qiskit_ibm_runtime)\n",
            "  Downloading symengine-0.13.0-cp310-cp310-manylinux_2_17_x86_64.manylinux2014_x86_64.whl.metadata (1.2 kB)\n",
            "Requirement already satisfied: charset-normalizer<4,>=2 in /usr/local/lib/python3.10/dist-packages (from requests>=2.19->qiskit_ibm_runtime) (3.4.0)\n",
            "Requirement already satisfied: idna<4,>=2.5 in /usr/local/lib/python3.10/dist-packages (from requests>=2.19->qiskit_ibm_runtime) (3.10)\n",
            "Requirement already satisfied: certifi>=2017.4.17 in /usr/local/lib/python3.10/dist-packages (from requests>=2.19->qiskit_ibm_runtime) (2024.8.30)\n",
            "Requirement already satisfied: cryptography>=1.3 in /usr/local/lib/python3.10/dist-packages (from requests-ntlm>=1.1.0->qiskit_ibm_runtime) (43.0.3)\n",
            "Collecting pyspnego>=0.4.0 (from requests-ntlm>=1.1.0->qiskit_ibm_runtime)\n",
            "  Downloading pyspnego-0.11.2-py3-none-any.whl.metadata (5.4 kB)\n",
            "Requirement already satisfied: cffi>=1.12 in /usr/local/lib/python3.10/dist-packages (from cryptography>=1.3->requests-ntlm>=1.1.0->qiskit_ibm_runtime) (1.17.1)\n",
            "Requirement already satisfied: PyJWT<3.0.0,>=2.8.0 in /usr/local/lib/python3.10/dist-packages (from ibm-cloud-sdk-core<4.0.0,>=3.22.0->ibm-platform-services>=0.22.6->qiskit_ibm_runtime) (2.10.1)\n",
            "Collecting pbr>=2.0.0 (from stevedore>=3.0.0->qiskit>=1.1.0->qiskit_ibm_runtime)\n",
            "  Downloading pbr-6.1.0-py2.py3-none-any.whl.metadata (3.4 kB)\n",
            "Requirement already satisfied: mpmath<1.4,>=1.1.0 in /usr/local/lib/python3.10/dist-packages (from sympy>=1.3->qiskit>=1.1.0->qiskit_ibm_runtime) (1.3.0)\n",
            "Requirement already satisfied: pycparser in /usr/local/lib/python3.10/dist-packages (from cffi>=1.12->cryptography>=1.3->requests-ntlm>=1.1.0->qiskit_ibm_runtime) (2.22)\n",
            "Downloading qiskit_ibm_runtime-0.34.0-py3-none-any.whl (3.0 MB)\n",
            "\u001b[2K   \u001b[90m━━━━━━━━━━━━━━━━━━━━━━━━━━━━━━━━━━━━━━━━\u001b[0m \u001b[32m3.0/3.0 MB\u001b[0m \u001b[31m92.7 MB/s\u001b[0m eta \u001b[36m0:00:00\u001b[0m\n",
            "\u001b[?25hDownloading ibm_platform_services-0.59.0-py3-none-any.whl (340 kB)\n",
            "\u001b[2K   \u001b[90m━━━━━━━━━━━━━━━━━━━━━━━━━━━━━━━━━━━━━━━━\u001b[0m \u001b[32m340.8/340.8 kB\u001b[0m \u001b[31m31.1 MB/s\u001b[0m eta \u001b[36m0:00:00\u001b[0m\n",
            "\u001b[?25hDownloading pydantic-2.9.2-py3-none-any.whl (434 kB)\n",
            "\u001b[2K   \u001b[90m━━━━━━━━━━━━━━━━━━━━━━━━━━━━━━━━━━━━━━━━\u001b[0m \u001b[32m434.9/434.9 kB\u001b[0m \u001b[31m38.2 MB/s\u001b[0m eta \u001b[36m0:00:00\u001b[0m\n",
            "\u001b[?25hDownloading pydantic_core-2.23.4-cp310-cp310-manylinux_2_17_x86_64.manylinux2014_x86_64.whl (2.1 MB)\n",
            "\u001b[2K   \u001b[90m━━━━━━━━━━━━━━━━━━━━━━━━━━━━━━━━━━━━━━━━\u001b[0m \u001b[32m2.1/2.1 MB\u001b[0m \u001b[31m92.4 MB/s\u001b[0m eta \u001b[36m0:00:00\u001b[0m\n",
            "\u001b[?25hDownloading qiskit-1.3.0-cp39-abi3-manylinux_2_17_x86_64.manylinux2014_x86_64.whl (6.7 MB)\n",
            "\u001b[2K   \u001b[90m━━━━━━━━━━━━━━━━━━━━━━━━━━━━━━━━━━━━━━━━\u001b[0m \u001b[32m6.7/6.7 MB\u001b[0m \u001b[31m115.6 MB/s\u001b[0m eta \u001b[36m0:00:00\u001b[0m\n",
            "\u001b[?25hDownloading requests_ntlm-1.3.0-py3-none-any.whl (6.6 kB)\n",
            "Downloading dill-0.3.9-py3-none-any.whl (119 kB)\n",
            "\u001b[2K   \u001b[90m━━━━━━━━━━━━━━━━━━━━━━━━━━━━━━━━━━━━━━━━\u001b[0m \u001b[32m119.4/119.4 kB\u001b[0m \u001b[31m13.6 MB/s\u001b[0m eta \u001b[36m0:00:00\u001b[0m\n",
            "\u001b[?25hDownloading ibm_cloud_sdk_core-3.22.0-py3-none-any.whl (69 kB)\n",
            "\u001b[2K   \u001b[90m━━━━━━━━━━━━━━━━━━━━━━━━━━━━━━━━━━━━━━━━\u001b[0m \u001b[32m69.4/69.4 kB\u001b[0m \u001b[31m7.9 MB/s\u001b[0m eta \u001b[36m0:00:00\u001b[0m\n",
            "\u001b[?25hDownloading pyspnego-0.11.2-py3-none-any.whl (130 kB)\n",
            "\u001b[2K   \u001b[90m━━━━━━━━━━━━━━━━━━━━━━━━━━━━━━━━━━━━━━━━\u001b[0m \u001b[32m130.5/130.5 kB\u001b[0m \u001b[31m13.0 MB/s\u001b[0m eta \u001b[36m0:00:00\u001b[0m\n",
            "\u001b[?25hDownloading rustworkx-0.15.1-cp38-abi3-manylinux_2_17_x86_64.manylinux2014_x86_64.whl (2.0 MB)\n",
            "\u001b[2K   \u001b[90m━━━━━━━━━━━━━━━━━━━━━━━━━━━━━━━━━━━━━━━━\u001b[0m \u001b[32m2.0/2.0 MB\u001b[0m \u001b[31m89.8 MB/s\u001b[0m eta \u001b[36m0:00:00\u001b[0m\n",
            "\u001b[?25hDownloading stevedore-5.4.0-py3-none-any.whl (49 kB)\n",
            "\u001b[2K   \u001b[90m━━━━━━━━━━━━━━━━━━━━━━━━━━━━━━━━━━━━━━━━\u001b[0m \u001b[32m49.5/49.5 kB\u001b[0m \u001b[31m4.5 MB/s\u001b[0m eta \u001b[36m0:00:00\u001b[0m\n",
            "\u001b[?25hDownloading symengine-0.13.0-cp310-cp310-manylinux_2_17_x86_64.manylinux2014_x86_64.whl (49.7 MB)\n",
            "\u001b[2K   \u001b[90m━━━━━━━━━━━━━━━━━━━━━━━━━━━━━━━━━━━━━━━━\u001b[0m \u001b[32m49.7/49.7 MB\u001b[0m \u001b[31m19.8 MB/s\u001b[0m eta \u001b[36m0:00:00\u001b[0m\n",
            "\u001b[?25hDownloading pbr-6.1.0-py2.py3-none-any.whl (108 kB)\n",
            "\u001b[2K   \u001b[90m━━━━━━━━━━━━━━━━━━━━━━━━━━━━━━━━━━━━━━━━\u001b[0m \u001b[32m108.5/108.5 kB\u001b[0m \u001b[31m11.9 MB/s\u001b[0m eta \u001b[36m0:00:00\u001b[0m\n",
            "\u001b[?25hInstalling collected packages: symengine, rustworkx, pydantic-core, pbr, dill, stevedore, pydantic, ibm-cloud-sdk-core, qiskit, pyspnego, ibm-platform-services, requests-ntlm, qiskit_ibm_runtime\n",
            "  Attempting uninstall: pydantic-core\n",
            "    Found existing installation: pydantic_core 2.27.1\n",
            "    Uninstalling pydantic_core-2.27.1:\n",
            "      Successfully uninstalled pydantic_core-2.27.1\n",
            "  Attempting uninstall: pydantic\n",
            "    Found existing installation: pydantic 2.10.3\n",
            "    Uninstalling pydantic-2.10.3:\n",
            "      Successfully uninstalled pydantic-2.10.3\n",
            "Successfully installed dill-0.3.9 ibm-cloud-sdk-core-3.22.0 ibm-platform-services-0.59.0 pbr-6.1.0 pydantic-2.9.2 pydantic-core-2.23.4 pyspnego-0.11.2 qiskit-1.3.0 qiskit_ibm_runtime-0.34.0 requests-ntlm-1.3.0 rustworkx-0.15.1 stevedore-5.4.0 symengine-0.13.0\n",
            "Collecting qiskit==0.24.0\n",
            "  Downloading qiskit-0.24.0.tar.gz (4.1 kB)\n",
            "  Preparing metadata (setup.py) ... \u001b[?25l\u001b[?25hdone\n",
            "Collecting qiskit-terra==0.16.4 (from qiskit==0.24.0)\n",
            "  Downloading qiskit-terra-0.16.4.tar.gz (8.1 MB)\n",
            "\u001b[2K     \u001b[90m━━━━━━━━━━━━━━━━━━━━━━━━━━━━━━━━━━━━━━━━\u001b[0m \u001b[32m8.1/8.1 MB\u001b[0m \u001b[31m1.6 MB/s\u001b[0m eta \u001b[36m0:00:00\u001b[0m\n",
            "\u001b[?25h  Installing build dependencies ... \u001b[?25l\u001b[?25hdone\n",
            "  Getting requirements to build wheel ... \u001b[?25l\u001b[?25hdone\n",
            "  Preparing metadata (pyproject.toml) ... \u001b[?25l\u001b[?25hdone\n",
            "Collecting qiskit-aer==0.7.6 (from qiskit==0.24.0)\n",
            "  Downloading qiskit-aer-0.7.6.tar.gz (6.4 MB)\n",
            "\u001b[2K     \u001b[90m━━━━━━━━━━━━━━━━━━━━━━━━━━━━━━━━━━━━━━━━\u001b[0m \u001b[32m6.4/6.4 MB\u001b[0m \u001b[31m1.6 MB/s\u001b[0m eta \u001b[36m0:00:00\u001b[0m\n",
            "\u001b[?25h  \u001b[1;31merror\u001b[0m: \u001b[1msubprocess-exited-with-error\u001b[0m\n",
            "  \n",
            "  \u001b[31m×\u001b[0m \u001b[32mpython setup.py egg_info\u001b[0m did not run successfully.\n",
            "  \u001b[31m│\u001b[0m exit code: \u001b[1;36m1\u001b[0m\n",
            "  \u001b[31m╰─>\u001b[0m See above for output.\n",
            "  \n",
            "  \u001b[1;35mnote\u001b[0m: This error originates from a subprocess, and is likely not a problem with pip.\n",
            "  Preparing metadata (setup.py) ... \u001b[?25l\u001b[?25herror\n",
            "\u001b[1;31merror\u001b[0m: \u001b[1mmetadata-generation-failed\u001b[0m\n",
            "\n",
            "\u001b[31m×\u001b[0m Encountered error while generating package metadata.\n",
            "\u001b[31m╰─>\u001b[0m See above for output.\n",
            "\n",
            "\u001b[1;35mnote\u001b[0m: This is an issue with the package mentioned above, not pip.\n",
            "\u001b[1;36mhint\u001b[0m: See above for details.\n"
          ]
        }
      ],
      "source": [
        "!pip install qiskit_ibm_runtime && pip install qiskit==0.24.0"
      ]
    },
    {
      "cell_type": "code",
      "execution_count": null,
      "metadata": {
        "colab": {
          "base_uri": "https://localhost:8080/"
        },
        "id": "ZWJETFaRy40P",
        "outputId": "a4055c5f-cd17-4d63-efa2-91166ed14049"
      },
      "outputs": [
        {
          "name": "stdout",
          "output_type": "stream",
          "text": [
            "Job result structure: PrimitiveResult([<__main__.create_mock_job_result.<locals>.MockPubResult object at 0x792521543a90>], metadata={})\n",
            "Counts retrieved: Counter({(0, 1, 1, 1, 1, 1, 0, 1, 1, 1, 1, 0): 3, (1, 1, 0, 1, 0, 0, 0, 0, 0, 0, 0, 0): 3, (1, 0, 1, 1, 0, 0, 1, 0, 0, 0, 1, 1): 3, (0, 0, 1, 1, 1, 1, 0, 0, 1, 1, 0, 0): 3, (1, 0, 0, 0, 1, 0, 0, 0, 0, 1, 1, 1): 3, (1, 0, 1, 0, 1, 0, 1, 0, 0, 1, 0, 0): 3, (0, 1, 0, 0, 1, 1, 1, 1, 0, 0, 0, 0): 3, (1, 1, 1, 1, 0, 1, 1, 1, 1, 1, 0, 0): 3, (0, 1, 0, 0, 1, 1, 0, 0, 1, 0, 0, 1): 3, (1, 0, 0, 1, 1, 1, 0, 0, 1, 0, 0, 0): 3, (1, 1, 0, 0, 0, 1, 0, 1, 1, 1, 1, 0): 3, (1, 1, 0, 1, 0, 0, 0, 0, 1, 1, 1, 0): 3, (0, 0, 1, 1, 0, 1, 1, 0, 0, 0, 0, 1): 3, (1, 1, 1, 0, 0, 0, 1, 0, 1, 1, 0, 0): 3, (1, 1, 0, 1, 1, 1, 1, 0, 1, 1, 1, 1): 3, (0, 0, 0, 0, 1, 1, 1, 1, 1, 1, 1, 1): 2, (1, 1, 0, 1, 0, 1, 0, 1, 1, 1, 0, 0): 2, (0, 1, 1, 0, 0, 1, 1, 0, 1, 0, 0, 1): 2, (0, 1, 1, 0, 1, 0, 0, 0, 1, 1, 0, 1): 2, (1, 0, 1, 1, 0, 0, 0, 1, 0, 0, 1, 1): 2, (0, 1, 1, 1, 1, 1, 1, 1, 0, 1, 0, 1): 2, (0, 0, 0, 0, 0, 1, 1, 0, 1, 1, 0, 0): 2, (1, 1, 0, 0, 0, 0, 0, 0, 1, 1, 0, 0): 2, (1, 1, 1, 0, 0, 1, 1, 1, 1, 0, 1, 1): 2, (1, 0, 0, 1, 0, 1, 0, 0, 1, 0, 0, 1): 2, (1, 0, 0, 0, 0, 1, 0, 1, 1, 0, 0, 1): 2, (1, 1, 1, 0, 1, 0, 0, 0, 0, 0, 0, 1): 2, (1, 1, 0, 1, 0, 1, 1, 1, 0, 0, 0, 0): 2, (0, 1, 1, 0, 1, 1, 0, 0, 1, 1, 0, 0): 2, (0, 1, 1, 1, 0, 1, 1, 0, 0, 0, 0, 0): 2, (0, 1, 0, 1, 0, 1, 1, 0, 0, 1, 0, 1): 2, (0, 0, 0, 1, 1, 1, 1, 0, 0, 0, 1, 1): 2, (1, 1, 1, 0, 0, 0, 0, 1, 1, 0, 0, 0): 2, (1, 1, 1, 1, 0, 0, 0, 1, 1, 1, 1, 0): 2, (1, 0, 0, 0, 1, 0, 0, 1, 1, 1, 1, 1): 2, (1, 1, 1, 0, 1, 1, 1, 0, 0, 0, 0, 1): 2, (0, 1, 1, 0, 1, 1, 0, 0, 1, 1, 0, 1): 2, (1, 0, 1, 1, 0, 0, 1, 1, 0, 1, 0, 0): 2, (0, 0, 1, 1, 1, 0, 0, 0, 0, 1, 0, 1): 2, (1, 0, 1, 1, 1, 1, 1, 1, 0, 1, 1, 0): 2, (0, 1, 0, 1, 1, 0, 1, 0, 1, 0, 0, 1): 2, (0, 1, 0, 1, 1, 1, 0, 1, 0, 0, 1, 0): 2, (1, 1, 1, 0, 1, 0, 0, 1, 1, 0, 0, 1): 2, (1, 0, 1, 1, 0, 1, 0, 0, 0, 0, 1, 0): 2, (1, 0, 1, 0, 0, 1, 1, 1, 1, 1, 1, 0): 2, (1, 1, 1, 1, 0, 0, 1, 1, 0, 1, 1, 0): 2, (1, 0, 1, 1, 1, 1, 0, 1, 0, 0, 0, 1): 2, (0, 0, 0, 1, 1, 0, 0, 0, 1, 1, 1, 1): 2, (0, 1, 1, 1, 1, 0, 1, 0, 1, 1, 0, 0): 2, (1, 0, 1, 1, 0, 1, 1, 0, 0, 0, 0, 1): 2, (0, 1, 1, 0, 1, 0, 0, 1, 0, 1, 0, 1): 2, (0, 0, 1, 0, 0, 1, 1, 0, 0, 1, 1, 1): 2, (0, 1, 0, 1, 0, 1, 1, 0, 0, 0, 1, 0): 2, (1, 1, 0, 1, 0, 0, 1, 1, 0, 0, 0, 1): 2, (0, 0, 0, 0, 1, 1, 1, 0, 0, 0, 0, 1): 2, (1, 0, 1, 0, 0, 1, 1, 0, 1, 0, 0, 0): 2, (0, 0, 1, 0, 1, 0, 1, 0, 1, 1, 1, 1): 2, (1, 1, 0, 1, 1, 0, 1, 0, 1, 1, 0, 1): 2, (0, 1, 1, 0, 0, 1, 0, 0, 1, 1, 1, 0): 2, (0, 0, 1, 0, 0, 1, 1, 0, 1, 1, 0, 0): 2, (1, 0, 0, 1, 0, 0, 1, 1, 0, 0, 1, 0): 2, (1, 1, 1, 1, 1, 1, 1, 0, 0, 0, 1, 1): 2, (1, 1, 1, 1, 0, 0, 1, 1, 0, 0, 0, 0): 2, (0, 1, 0, 0, 1, 0, 0, 0, 1, 0, 1, 0): 2, (0, 1, 0, 1, 1, 0, 0, 1, 0, 1, 1, 1): 2, (0, 1, 0, 1, 0, 1, 0, 1, 1, 0, 0, 1): 2, (1, 1, 0, 1, 0, 1, 0, 1, 0, 0, 0, 0): 2, (0, 1, 0, 0, 0, 1, 1, 1, 1, 1, 0, 1): 2, (1, 1, 1, 1, 1, 1, 1, 1, 0, 1, 1, 1): 2, (0, 1, 1, 0, 1, 1, 0, 1, 1, 1, 1, 1): 2, (0, 0, 0, 1, 1, 1, 1, 1, 1, 1, 0, 0): 2, (1, 0, 0, 1, 0, 1, 0, 0, 0, 0, 0, 0): 2, (1, 0, 0, 1, 0, 0, 0, 0, 1, 0, 0, 0): 2, (1, 0, 0, 0, 1, 1, 0, 1, 0, 0, 0, 1): 2, (1, 0, 0, 0, 1, 1, 0, 1, 0, 0, 0, 0): 2, (0, 0, 0, 1, 1, 0, 0, 1, 1, 1, 0, 0): 2, (0, 0, 0, 0, 0, 1, 0, 0, 0, 1, 1, 1): 2, (1, 1, 0, 1, 1, 0, 1, 0, 0, 1, 1, 0): 2, (1, 1, 0, 0, 0, 0, 1, 1, 1, 1, 0, 0): 2, (0, 0, 1, 0, 0, 1, 1, 1, 1, 0, 1, 0): 2, (1, 1, 1, 1, 0, 0, 0, 1, 0, 0, 0, 0): 2, (1, 0, 0, 0, 0, 0, 1, 0, 1, 0, 0, 1): 2, (1, 0, 0, 1, 0, 1, 1, 1, 0, 1, 0, 1): 2, (1, 0, 0, 1, 1, 0, 1, 0, 1, 0, 0, 0): 2, (0, 1, 0, 1, 1, 0, 1, 1, 0, 0, 1, 0): 2, (1, 1, 0, 1, 1, 1, 0, 0, 1, 0, 1, 1): 2, (1, 0, 0, 1, 0, 0, 1, 1, 0, 0, 1, 1): 2, (1, 0, 0, 0, 0, 0, 1, 1, 0, 1, 1, 1): 2, (1, 1, 1, 1, 0, 1, 1, 0, 0, 1, 1, 0): 2, (1, 0, 0, 0, 1, 1, 1, 1, 1, 1, 0, 1): 2, (0, 1, 0, 0, 1, 0, 1, 0, 0, 0, 1, 0): 2, (0, 0, 1, 0, 1, 0, 1, 1, 0, 0, 1, 0): 2, (1, 1, 1, 0, 1, 1, 0, 1, 1, 0, 0, 1): 2, (1, 0, 1, 1, 0, 0, 0, 0, 0, 1, 0, 1): 2, (1, 1, 0, 0, 0, 0, 0, 1, 1, 1, 1, 0): 2, (1, 1, 1, 1, 1, 1, 1, 0, 1, 1, 0, 0): 2, (1, 0, 0, 0, 1, 0, 0, 0, 1, 0, 1, 0): 2, (1, 1, 1, 1, 0, 1, 0, 1, 0, 0, 1, 0): 2, (0, 1, 0, 1, 0, 0, 0, 0, 0, 1, 0, 0): 2, (0, 1, 1, 0, 1, 0, 0, 1, 1, 1, 0, 0): 2, (0, 1, 0, 0, 0, 0, 0, 1, 1, 0, 0, 1): 2, (1, 0, 0, 0, 0, 1, 0, 1, 0, 1, 0, 0): 2, (1, 1, 1, 0, 1, 0, 0, 1, 1, 1, 1, 0): 2, (1, 0, 1, 1, 1, 0, 0, 0, 0, 1, 0, 0): 2, (0, 1, 0, 0, 0, 0, 1, 1, 1, 1, 1, 1): 2, (1, 1, 1, 0, 0, 0, 0, 0, 1, 1, 1, 1): 2, (1, 0, 0, 0, 0, 0, 1, 1, 0, 0, 1, 1): 2, (0, 0, 1, 1, 1, 1, 1, 0, 1, 1, 0, 0): 2, (0, 0, 1, 0, 1, 0, 1, 1, 0, 1, 0, 0): 2, (1, 1, 0, 0, 0, 1, 1, 1, 1, 1, 0, 0): 2, (1, 0, 0, 0, 1, 1, 1, 1, 1, 0, 1, 1): 2, (1, 0, 1, 1, 1, 1, 1, 0, 0, 0, 0, 1): 2, (1, 0, 1, 0, 0, 0, 1, 0, 1, 0, 0, 0): 2, (1, 0, 0, 0, 1, 1, 1, 0, 0, 0, 1, 1): 2, (0, 0, 1, 0, 0, 0, 0, 0, 0, 0, 0, 1): 2, (0, 0, 1, 0, 0, 1, 0, 1, 0, 1, 1, 0): 2, (0, 0, 0, 0, 0, 1, 0, 1, 0, 0, 1, 0): 2, (0, 0, 1, 0, 1, 1, 1, 1, 0, 0, 1, 1): 2, (1, 1, 1, 0, 1, 0, 1, 1, 1, 0, 0, 1): 2, (0, 0, 1, 1, 0, 0, 0, 0, 1, 1, 1, 0): 2, (0, 0, 0, 1, 0, 1, 1, 1, 0, 0, 0, 0): 2, (0, 1, 0, 0, 0, 0, 1, 0, 1, 1, 0, 0): 1, (0, 0, 0, 0, 0, 1, 0, 1, 1, 0, 0, 0): 1, (1, 1, 1, 0, 0, 1, 1, 1, 1, 1, 0, 0): 1, (1, 1, 0, 0, 1, 0, 1, 0, 1, 1, 1, 1): 1, (1, 0, 1, 0, 1, 0, 1, 1, 1, 0, 1, 0): 1, (0, 1, 1, 1, 0, 1, 0, 0, 0, 0, 0, 0): 1, (1, 1, 0, 0, 0, 1, 0, 1, 0, 0, 1, 1): 1, (1, 0, 0, 0, 0, 1, 0, 1, 0, 0, 0, 1): 1, (0, 1, 1, 0, 0, 0, 1, 1, 0, 1, 0, 0): 1, (1, 1, 0, 0, 0, 0, 0, 1, 0, 0, 1, 1): 1, (0, 0, 0, 0, 1, 1, 1, 1, 1, 1, 1, 0): 1, (0, 0, 1, 1, 0, 1, 1, 0, 1, 1, 1, 1): 1, (0, 0, 1, 0, 0, 0, 0, 0, 0, 0, 1, 0): 1, (0, 1, 0, 0, 0, 0, 1, 0, 1, 0, 1, 1): 1, (1, 0, 1, 1, 0, 1, 1, 0, 1, 0, 1, 0): 1, (1, 0, 0, 1, 0, 0, 1, 0, 1, 1, 0, 0): 1, (1, 0, 1, 1, 0, 1, 0, 1, 0, 1, 0, 1): 1, (0, 1, 0, 1, 1, 1, 1, 1, 0, 0, 1, 0): 1, (1, 1, 1, 1, 1, 0, 1, 0, 0, 1, 0, 1): 1, (1, 0, 1, 0, 0, 1, 1, 1, 1, 0, 1, 0): 1, (1, 0, 0, 1, 1, 1, 1, 0, 0, 0, 0, 0): 1, (0, 0, 0, 0, 1, 1, 0, 1, 0, 1, 1, 0): 1, (0, 0, 0, 1, 0, 0, 0, 0, 0, 0, 1, 1): 1, (0, 1, 1, 1, 0, 1, 1, 1, 0, 1, 1, 1): 1, (1, 0, 1, 0, 1, 1, 1, 1, 0, 1, 1, 0): 1, (1, 0, 1, 0, 1, 1, 0, 1, 0, 1, 0, 1): 1, (1, 1, 1, 0, 1, 0, 0, 1, 1, 1, 0, 0): 1, (1, 1, 1, 1, 1, 1, 1, 1, 1, 0, 0, 1): 1, (1, 0, 0, 0, 0, 0, 0, 0, 1, 0, 0, 0): 1, (0, 0, 0, 0, 0, 0, 0, 1, 1, 1, 1, 1): 1, (0, 1, 1, 0, 1, 1, 1, 1, 1, 0, 0, 1): 1, (0, 0, 0, 1, 1, 0, 0, 0, 1, 0, 0, 1): 1, (1, 0, 0, 1, 0, 1, 1, 1, 1, 1, 0, 0): 1, (1, 1, 0, 1, 1, 1, 0, 1, 0, 1, 0, 0): 1, (0, 0, 0, 1, 0, 0, 1, 0, 1, 1, 0, 0): 1, (1, 1, 1, 0, 0, 0, 1, 1, 1, 0, 0, 1): 1, (0, 1, 1, 1, 0, 0, 0, 1, 1, 0, 0, 0): 1, (1, 1, 0, 1, 0, 0, 1, 1, 1, 0, 1, 0): 1, (1, 0, 1, 1, 0, 0, 0, 1, 0, 0, 0, 1): 1, (0, 0, 0, 1, 0, 0, 0, 0, 0, 1, 1, 0): 1, (0, 1, 1, 1, 0, 1, 1, 0, 1, 0, 0, 1): 1, (1, 1, 1, 0, 1, 1, 0, 0, 0, 0, 1, 0): 1, (0, 1, 1, 0, 1, 1, 1, 0, 1, 0, 1, 0): 1, (1, 0, 1, 1, 0, 1, 1, 0, 0, 1, 1, 1): 1, (0, 1, 0, 0, 0, 0, 1, 0, 1, 0, 0, 0): 1, (1, 1, 1, 0, 0, 0, 0, 0, 0, 1, 0, 0): 1, (1, 1, 0, 1, 1, 1, 1, 1, 0, 1, 1, 0): 1, (1, 1, 0, 1, 1, 0, 0, 0, 0, 1, 1, 1): 1, (1, 0, 0, 1, 0, 1, 0, 1, 1, 1, 0, 0): 1, (1, 0, 0, 0, 0, 0, 1, 1, 0, 0, 1, 0): 1, (1, 1, 0, 1, 0, 0, 1, 0, 0, 0, 1, 0): 1, (0, 1, 1, 1, 1, 1, 1, 1, 1, 0, 1, 1): 1, (1, 1, 1, 0, 1, 1, 1, 1, 1, 0, 1, 1): 1, (0, 1, 0, 1, 1, 0, 0, 0, 0, 0, 1, 1): 1, (0, 1, 1, 1, 0, 0, 0, 1, 1, 1, 1, 0): 1, (0, 1, 0, 0, 1, 1, 1, 1, 0, 1, 1, 0): 1, (1, 0, 0, 1, 1, 1, 0, 1, 0, 1, 1, 1): 1, (0, 1, 1, 1, 0, 1, 1, 0, 0, 0, 1, 0): 1, (1, 1, 1, 0, 1, 0, 0, 0, 0, 0, 1, 0): 1, (1, 0, 0, 1, 0, 0, 1, 1, 0, 1, 0, 1): 1, (1, 1, 0, 0, 0, 1, 0, 0, 0, 0, 1, 0): 1, (0, 0, 0, 1, 0, 0, 1, 0, 1, 0, 1, 1): 1, (1, 1, 1, 1, 0, 1, 1, 0, 0, 1, 0, 0): 1, (0, 0, 1, 0, 0, 1, 1, 1, 0, 0, 1, 0): 1, (1, 1, 0, 1, 0, 1, 1, 1, 0, 1, 0, 0): 1, (1, 0, 1, 0, 0, 1, 1, 0, 1, 0, 0, 1): 1, (1, 1, 0, 1, 0, 0, 1, 1, 0, 1, 0, 1): 1, (1, 0, 0, 0, 0, 1, 0, 0, 1, 1, 0, 1): 1, (1, 1, 1, 1, 0, 0, 1, 1, 0, 0, 1, 1): 1, (1, 1, 0, 1, 1, 1, 0, 1, 0, 0, 1, 1): 1, (0, 0, 0, 0, 0, 0, 0, 1, 0, 1, 0, 0): 1, (1, 0, 1, 1, 1, 1, 1, 0, 1, 1, 1, 0): 1, (1, 0, 0, 1, 0, 1, 1, 0, 1, 0, 1, 0): 1, (1, 0, 0, 1, 1, 1, 1, 0, 0, 0, 0, 1): 1, (0, 1, 1, 1, 1, 1, 0, 0, 0, 1, 0, 0): 1, (1, 1, 0, 1, 1, 1, 0, 0, 1, 1, 0, 1): 1, (1, 0, 1, 0, 1, 0, 0, 0, 0, 0, 1, 0): 1, (1, 1, 1, 0, 1, 1, 0, 1, 0, 0, 0, 0): 1, (1, 1, 1, 0, 0, 0, 1, 1, 0, 0, 0, 0): 1, (1, 1, 1, 1, 1, 1, 0, 0, 0, 0, 0, 1): 1, (1, 0, 0, 0, 0, 0, 1, 1, 0, 1, 0, 0): 1, (1, 0, 1, 0, 0, 0, 1, 0, 0, 0, 0, 0): 1, (1, 1, 0, 1, 0, 1, 1, 1, 0, 0, 0, 1): 1, (0, 1, 1, 0, 1, 0, 1, 1, 0, 1, 0, 0): 1, (0, 0, 1, 0, 1, 1, 0, 1, 0, 0, 0, 0): 1, (0, 0, 0, 0, 0, 0, 0, 0, 0, 0, 1, 0): 1, (0, 0, 0, 1, 0, 0, 0, 0, 0, 1, 1, 1): 1, (1, 0, 1, 0, 0, 1, 0, 0, 1, 0, 1, 1): 1, (1, 0, 0, 0, 0, 0, 0, 0, 0, 0, 0, 0): 1, (0, 0, 1, 0, 0, 0, 0, 1, 0, 0, 1, 1): 1, (0, 0, 1, 0, 1, 0, 0, 1, 0, 1, 0, 0): 1, (1, 0, 0, 1, 0, 1, 0, 0, 1, 1, 0, 1): 1, (1, 1, 1, 0, 1, 1, 1, 0, 1, 0, 1, 1): 1, (1, 0, 1, 0, 1, 1, 1, 1, 1, 1, 0, 0): 1, (1, 0, 1, 0, 1, 0, 1, 1, 1, 0, 0, 1): 1, (0, 1, 0, 0, 0, 1, 1, 0, 0, 0, 0, 0): 1, (0, 0, 1, 0, 0, 0, 0, 0, 0, 1, 1, 1): 1, (0, 0, 1, 1, 0, 0, 0, 1, 0, 0, 0, 1): 1, (1, 0, 1, 1, 0, 0, 1, 0, 0, 1, 0, 0): 1, (0, 1, 0, 1, 0, 0, 1, 1, 0, 1, 1, 1): 1, (1, 0, 0, 0, 0, 1, 0, 0, 1, 0, 1, 0): 1, (0, 1, 1, 1, 0, 0, 0, 1, 0, 0, 1, 0): 1, (0, 1, 1, 1, 0, 0, 1, 0, 0, 1, 0, 0): 1, (1, 1, 1, 1, 0, 1, 0, 0, 1, 0, 0, 0): 1, (1, 1, 0, 1, 0, 1, 1, 1, 1, 1, 1, 0): 1, (0, 0, 0, 0, 0, 0, 1, 1, 1, 0, 1, 1): 1, (0, 1, 1, 1, 1, 1, 1, 0, 0, 1, 1, 1): 1, (1, 1, 0, 0, 1, 0, 0, 0, 0, 0, 0, 0): 1, (0, 0, 1, 0, 1, 1, 1, 0, 0, 1, 1, 0): 1, (0, 0, 0, 0, 1, 1, 0, 1, 0, 0, 1, 1): 1, (0, 0, 1, 1, 1, 0, 0, 1, 0, 1, 0, 0): 1, (1, 1, 1, 0, 1, 1, 1, 1, 0, 1, 0, 0): 1, (0, 0, 1, 1, 1, 1, 1, 0, 1, 1, 1, 1): 1, (0, 0, 1, 0, 0, 1, 1, 1, 0, 0, 0, 0): 1, (1, 1, 1, 0, 1, 1, 1, 0, 0, 0, 1, 0): 1, (0, 0, 0, 1, 1, 0, 1, 0, 1, 0, 0, 1): 1, (1, 1, 0, 0, 1, 1, 0, 0, 1, 0, 0, 0): 1, (1, 1, 1, 0, 0, 1, 1, 1, 0, 0, 1, 1): 1, (0, 0, 1, 1, 0, 0, 0, 1, 0, 1, 1, 0): 1, (1, 1, 1, 0, 1, 0, 1, 1, 1, 1, 1, 1): 1, (1, 1, 0, 0, 1, 1, 1, 0, 1, 0, 1, 0): 1, (0, 1, 0, 0, 1, 1, 1, 1, 0, 0, 1, 0): 1, (1, 0, 1, 0, 1, 0, 0, 0, 1, 1, 1, 1): 1, (1, 0, 1, 0, 1, 1, 1, 0, 0, 0, 1, 0): 1, (1, 0, 0, 0, 0, 0, 0, 0, 1, 1, 0, 0): 1, (1, 1, 1, 1, 0, 1, 1, 1, 0, 1, 1, 1): 1, (0, 1, 0, 1, 0, 1, 1, 1, 1, 0, 1, 1): 1, (0, 0, 0, 1, 1, 0, 0, 1, 1, 0, 1, 1): 1, (1, 1, 1, 1, 1, 0, 1, 1, 1, 0, 0, 1): 1, (0, 0, 0, 1, 1, 0, 0, 1, 0, 1, 1, 1): 1, (0, 1, 1, 1, 1, 0, 0, 1, 1, 0, 1, 0): 1, (1, 1, 1, 0, 1, 0, 0, 1, 1, 1, 0, 1): 1, (1, 0, 0, 1, 1, 0, 0, 0, 1, 0, 1, 1): 1, (1, 0, 0, 1, 0, 1, 1, 0, 1, 0, 0, 1): 1, (0, 1, 0, 0, 0, 1, 1, 1, 1, 1, 0, 0): 1, (0, 1, 0, 1, 1, 1, 1, 0, 1, 1, 0, 0): 1, (0, 1, 0, 0, 1, 1, 0, 0, 0, 0, 1, 0): 1, (0, 0, 0, 0, 1, 0, 1, 0, 1, 1, 0, 0): 1, (0, 1, 0, 1, 0, 0, 1, 0, 1, 0, 0, 1): 1, (0, 1, 0, 1, 0, 1, 0, 0, 0, 0, 0, 0): 1, (1, 1, 0, 1, 0, 1, 0, 1, 1, 1, 1, 0): 1, (1, 0, 0, 0, 0, 0, 0, 0, 0, 1, 1, 0): 1, (1, 1, 1, 1, 0, 1, 0, 1, 1, 0, 1, 0): 1, (1, 0, 0, 0, 0, 0, 0, 1, 0, 0, 1, 1): 1, (1, 1, 0, 1, 1, 0, 0, 1, 1, 0, 0, 1): 1, (1, 0, 0, 1, 1, 1, 1, 0, 0, 0, 1, 1): 1, (0, 1, 0, 0, 1, 1, 1, 0, 1, 0, 1, 1): 1, (1, 1, 0, 1, 1, 0, 1, 1, 1, 1, 1, 0): 1, (0, 1, 0, 0, 0, 0, 0, 0, 0, 0, 0, 1): 1, (1, 1, 0, 0, 0, 0, 1, 0, 0, 0, 0, 1): 1, (0, 1, 1, 0, 1, 1, 0, 0, 0, 0, 0, 0): 1, (1, 1, 0, 0, 1, 1, 0, 0, 0, 1, 1, 0): 1, (1, 0, 1, 1, 1, 0, 0, 1, 0, 1, 0, 0): 1, (1, 1, 1, 1, 0, 1, 1, 0, 1, 0, 1, 0): 1, (0, 1, 0, 1, 1, 0, 1, 0, 0, 0, 0, 1): 1, (0, 0, 0, 1, 0, 0, 1, 0, 0, 1, 0, 1): 1, (1, 1, 1, 1, 1, 0, 1, 0, 1, 0, 1, 0): 1, (1, 0, 0, 1, 0, 1, 0, 0, 1, 0, 1, 1): 1, (1, 1, 1, 1, 1, 1, 1, 0, 0, 1, 1, 1): 1, (0, 0, 1, 1, 1, 1, 0, 0, 0, 1, 1, 1): 1, (0, 1, 1, 1, 1, 1, 0, 0, 1, 0, 1, 0): 1, (0, 1, 0, 0, 1, 1, 1, 0, 1, 1, 0, 0): 1, (1, 1, 0, 1, 1, 0, 1, 0, 1, 1, 1, 1): 1, (0, 0, 1, 0, 0, 1, 0, 0, 1, 1, 0, 0): 1, (0, 1, 1, 1, 0, 1, 1, 1, 0, 1, 0, 1): 1, (1, 0, 1, 0, 0, 0, 0, 1, 0, 0, 1, 1): 1, (0, 0, 0, 0, 0, 0, 1, 1, 0, 1, 1, 0): 1, (0, 0, 0, 1, 1, 1, 1, 0, 1, 0, 1, 0): 1, (1, 0, 1, 1, 1, 0, 1, 1, 0, 1, 1, 1): 1, (0, 0, 0, 1, 0, 1, 0, 1, 1, 1, 0, 1): 1, (1, 0, 1, 1, 0, 1, 0, 1, 0, 1, 0, 0): 1, (0, 0, 0, 1, 0, 1, 1, 1, 1, 0, 0, 1): 1, (0, 0, 1, 0, 0, 1, 1, 0, 1, 1, 1, 0): 1, (0, 0, 1, 1, 1, 0, 0, 0, 0, 0, 1, 0): 1, (1, 1, 0, 1, 0, 1, 1, 1, 0, 1, 1, 1): 1, (1, 0, 1, 0, 0, 1, 1, 1, 1, 0, 1, 1): 1, (0, 1, 1, 0, 1, 0, 0, 1, 1, 1, 0, 1): 1, (0, 1, 0, 0, 1, 1, 0, 0, 1, 1, 1, 1): 1, (0, 1, 0, 1, 1, 0, 1, 0, 0, 0, 1, 1): 1, (1, 0, 0, 1, 1, 1, 0, 1, 1, 0, 0, 0): 1, (1, 0, 1, 1, 1, 0, 1, 1, 1, 1, 1, 1): 1, (0, 0, 0, 1, 0, 0, 0, 1, 0, 1, 0, 0): 1, (1, 1, 1, 0, 0, 1, 1, 0, 0, 0, 0, 1): 1, (0, 0, 1, 1, 0, 0, 1, 0, 0, 0, 1, 1): 1, (1, 0, 1, 1, 1, 0, 1, 1, 0, 1, 0, 1): 1, (1, 1, 0, 0, 1, 0, 1, 1, 1, 1, 0, 0): 1, (0, 0, 1, 0, 1, 0, 0, 1, 1, 0, 0, 0): 1, (0, 0, 1, 1, 1, 0, 0, 0, 0, 1, 1, 1): 1, (1, 1, 0, 1, 1, 0, 0, 0, 1, 0, 0, 0): 1, (0, 1, 0, 1, 1, 0, 1, 1, 1, 0, 1, 1): 1, (1, 1, 1, 1, 1, 0, 1, 0, 1, 1, 1, 0): 1, (1, 1, 1, 1, 0, 0, 1, 0, 1, 1, 0, 1): 1, (1, 1, 1, 1, 1, 0, 1, 0, 0, 1, 1, 1): 1, (0, 1, 0, 1, 1, 0, 1, 1, 1, 0, 0, 1): 1, (1, 0, 1, 1, 0, 0, 1, 0, 1, 1, 0, 0): 1, (0, 1, 1, 0, 0, 1, 1, 1, 1, 0, 0, 0): 1, (1, 0, 1, 0, 0, 0, 0, 1, 1, 1, 0, 1): 1, (0, 0, 1, 0, 1, 1, 1, 0, 1, 1, 1, 0): 1, (0, 1, 1, 1, 1, 1, 1, 0, 0, 1, 1, 0): 1, (1, 1, 0, 0, 1, 0, 0, 1, 1, 1, 0, 1): 1, (0, 1, 0, 1, 1, 0, 1, 1, 0, 1, 1, 0): 1, (1, 0, 0, 1, 1, 0, 0, 1, 1, 1, 0, 1): 1, (1, 1, 1, 1, 1, 1, 0, 0, 1, 1, 1, 1): 1, (0, 0, 0, 1, 0, 1, 0, 1, 0, 0, 0, 1): 1, (0, 1, 0, 1, 0, 1, 1, 0, 0, 1, 1, 1): 1, (0, 1, 1, 1, 1, 0, 1, 1, 1, 1, 1, 0): 1, (0, 0, 0, 1, 1, 0, 0, 1, 1, 1, 1, 0): 1, (1, 1, 1, 0, 1, 1, 0, 1, 1, 0, 1, 0): 1, (0, 1, 1, 0, 0, 0, 1, 1, 0, 0, 1, 1): 1, (1, 0, 0, 1, 0, 1, 0, 1, 0, 1, 0, 1): 1, (0, 1, 1, 1, 0, 1, 1, 0, 1, 1, 0, 0): 1, (1, 1, 0, 1, 1, 0, 1, 0, 0, 0, 1, 1): 1, (1, 0, 0, 0, 1, 0, 0, 0, 0, 0, 0, 1): 1, (0, 0, 0, 1, 0, 1, 1, 0, 1, 0, 1, 1): 1, (0, 1, 1, 0, 0, 0, 0, 0, 0, 1, 0, 0): 1, (1, 0, 0, 1, 1, 0, 0, 0, 0, 0, 1, 0): 1, (1, 0, 0, 0, 0, 1, 0, 1, 1, 1, 1, 1): 1, (0, 0, 0, 1, 0, 1, 1, 1, 0, 0, 0, 1): 1, (0, 0, 1, 1, 0, 0, 0, 0, 1, 1, 0, 0): 1, (0, 0, 0, 0, 1, 1, 1, 1, 1, 0, 0, 0): 1, (0, 1, 0, 1, 0, 1, 0, 0, 0, 1, 1, 0): 1, (1, 1, 1, 1, 1, 1, 0, 1, 1, 1, 0, 0): 1, (1, 1, 0, 0, 0, 1, 1, 0, 1, 1, 0, 1): 1, (1, 1, 0, 1, 0, 1, 1, 0, 1, 0, 0, 1): 1, (1, 0, 1, 0, 0, 0, 0, 1, 1, 1, 0, 0): 1, (0, 0, 0, 1, 0, 1, 1, 1, 0, 0, 1, 1): 1, (0, 0, 0, 0, 0, 0, 1, 1, 1, 1, 1, 0): 1, (1, 0, 0, 1, 1, 1, 0, 1, 1, 1, 0, 1): 1, (1, 1, 1, 0, 0, 1, 0, 1, 1, 0, 1, 0): 1, (0, 0, 1, 0, 1, 1, 1, 0, 0, 1, 0, 0): 1, (1, 1, 0, 0, 1, 1, 1, 0, 0, 1, 1, 1): 1, (1, 1, 0, 1, 1, 1, 0, 0, 1, 0, 0, 1): 1, (1, 0, 1, 1, 1, 0, 0, 1, 1, 1, 0, 1): 1, (0, 0, 0, 1, 0, 1, 0, 1, 1, 1, 0, 0): 1, (0, 1, 1, 0, 1, 0, 1, 0, 0, 1, 1, 1): 1, (1, 1, 0, 0, 1, 1, 0, 1, 0, 0, 1, 0): 1, (0, 1, 0, 1, 1, 0, 1, 1, 1, 1, 1, 1): 1, (0, 0, 0, 0, 0, 0, 1, 1, 0, 0, 0, 0): 1, (0, 1, 1, 1, 1, 0, 0, 1, 1, 0, 1, 1): 1, (1, 0, 0, 0, 1, 1, 0, 0, 0, 1, 1, 0): 1, (0, 1, 0, 0, 1, 0, 1, 0, 1, 1, 0, 0): 1, (1, 1, 1, 0, 1, 0, 0, 0, 0, 1, 0, 1): 1, (1, 0, 0, 0, 1, 1, 1, 0, 1, 0, 0, 0): 1, (1, 0, 0, 0, 0, 0, 0, 0, 0, 1, 1, 1): 1, (1, 1, 0, 0, 1, 1, 0, 0, 0, 1, 0, 0): 1, (0, 0, 0, 0, 1, 1, 0, 0, 1, 0, 1, 0): 1, (1, 1, 0, 0, 0, 0, 0, 0, 1, 0, 0, 1): 1, (1, 0, 1, 0, 1, 1, 1, 0, 1, 0, 1, 0): 1, (0, 0, 0, 0, 1, 0, 0, 0, 0, 0, 0, 0): 1, (1, 1, 0, 1, 0, 0, 1, 0, 0, 1, 0, 0): 1, (1, 0, 1, 1, 1, 0, 1, 0, 0, 1, 0, 1): 1, (0, 0, 0, 0, 0, 0, 1, 1, 1, 1, 1, 1): 1, (1, 0, 1, 0, 1, 1, 1, 1, 1, 1, 0, 1): 1, (0, 1, 1, 0, 1, 1, 0, 1, 0, 1, 1, 0): 1, (0, 0, 0, 0, 0, 0, 1, 0, 1, 1, 0, 0): 1, (0, 1, 0, 0, 0, 1, 1, 0, 0, 0, 1, 1): 1, (1, 1, 1, 1, 0, 0, 0, 1, 0, 1, 0, 0): 1, (1, 0, 0, 0, 0, 0, 0, 1, 1, 1, 0, 1): 1, (1, 1, 0, 1, 0, 1, 1, 1, 1, 1, 0, 1): 1, (1, 1, 0, 0, 1, 1, 1, 1, 0, 1, 1, 1): 1, (1, 1, 1, 0, 1, 0, 1, 0, 0, 1, 1, 0): 1, (0, 1, 1, 0, 1, 1, 1, 0, 1, 0, 0, 0): 1, (0, 1, 1, 0, 0, 0, 0, 1, 0, 0, 1, 0): 1, (0, 0, 0, 0, 1, 0, 0, 0, 1, 1, 0, 1): 1, (1, 1, 1, 1, 1, 1, 0, 0, 0, 0, 1, 0): 1, (1, 1, 1, 1, 1, 1, 1, 1, 1, 0, 0, 0): 1, (1, 1, 1, 1, 0, 0, 1, 1, 0, 1, 0, 0): 1, (1, 1, 0, 1, 0, 0, 1, 0, 0, 0, 0, 1): 1, (0, 0, 0, 0, 1, 0, 0, 0, 1, 0, 1, 0): 1, (1, 1, 0, 0, 1, 0, 0, 0, 1, 1, 1, 0): 1, (1, 0, 0, 0, 1, 1, 0, 1, 0, 0, 1, 1): 1, (0, 1, 1, 1, 0, 1, 1, 1, 0, 1, 1, 0): 1, (0, 0, 1, 0, 1, 0, 0, 0, 0, 1, 1, 1): 1, (1, 1, 1, 1, 0, 1, 1, 0, 0, 0, 0, 0): 1, (1, 0, 0, 0, 0, 1, 1, 0, 0, 1, 0, 0): 1, (1, 1, 1, 0, 0, 0, 0, 1, 0, 1, 0, 0): 1, (0, 0, 1, 0, 0, 0, 1, 1, 1, 1, 0, 1): 1, (0, 1, 1, 0, 1, 1, 0, 1, 0, 0, 0, 0): 1, (1, 0, 1, 0, 0, 1, 0, 1, 0, 0, 1, 1): 1, (0, 0, 1, 1, 0, 0, 1, 0, 0, 1, 1, 1): 1, (0, 0, 1, 0, 1, 1, 1, 1, 0, 1, 0, 0): 1, (0, 1, 1, 0, 0, 1, 0, 0, 1, 0, 1, 0): 1, (0, 1, 0, 0, 0, 0, 0, 0, 0, 1, 0, 1): 1, (0, 1, 0, 0, 0, 1, 0, 1, 0, 0, 1, 0): 1, (0, 0, 1, 1, 0, 0, 1, 0, 1, 1, 0, 1): 1, (0, 1, 1, 0, 0, 1, 0, 0, 0, 0, 0, 0): 1, (1, 1, 0, 1, 1, 0, 1, 1, 1, 1, 1, 1): 1, (0, 1, 0, 0, 0, 1, 0, 0, 0, 0, 1, 1): 1, (1, 1, 1, 0, 1, 1, 1, 0, 0, 1, 1, 1): 1, (0, 0, 1, 1, 0, 1, 1, 0, 1, 0, 1, 0): 1, (1, 0, 1, 0, 0, 0, 1, 0, 1, 0, 1, 0): 1, (0, 0, 1, 0, 0, 1, 1, 1, 0, 1, 1, 1): 1, (1, 0, 0, 0, 0, 1, 1, 1, 1, 1, 0, 0): 1, (0, 0, 1, 1, 0, 0, 0, 1, 1, 1, 0, 1): 1, (0, 0, 1, 1, 0, 1, 0, 0, 1, 0, 1, 0): 1, (1, 0, 0, 1, 0, 0, 1, 0, 0, 1, 0, 1): 1, (0, 1, 0, 0, 0, 1, 0, 0, 1, 0, 1, 0): 1, (1, 1, 0, 1, 0, 0, 0, 1, 0, 0, 1, 1): 1, (1, 1, 0, 0, 1, 0, 1, 0, 0, 1, 1, 0): 1, (0, 1, 0, 0, 0, 1, 0, 1, 1, 0, 0, 1): 1, (1, 1, 1, 0, 1, 0, 1, 1, 0, 0, 1, 0): 1, (1, 0, 1, 1, 1, 1, 0, 0, 0, 1, 0, 1): 1, (0, 1, 0, 1, 1, 0, 0, 0, 1, 0, 1, 1): 1, (0, 1, 0, 1, 1, 0, 1, 0, 0, 1, 1, 0): 1, (1, 0, 1, 0, 0, 0, 1, 1, 1, 0, 1, 0): 1, (0, 1, 0, 1, 1, 0, 1, 0, 1, 1, 0, 0): 1, (0, 0, 1, 0, 0, 1, 1, 0, 0, 1, 0, 0): 1, (1, 1, 1, 0, 1, 0, 0, 1, 0, 0, 0, 1): 1, (0, 0, 1, 0, 0, 0, 0, 0, 0, 0, 0, 0): 1, (1, 0, 0, 1, 0, 1, 0, 1, 0, 1, 1, 1): 1, (0, 1, 1, 1, 0, 1, 1, 1, 0, 0, 1, 0): 1, (1, 0, 0, 0, 0, 1, 0, 0, 1, 0, 0, 0): 1, (1, 1, 0, 0, 1, 1, 0, 1, 1, 1, 1, 0): 1, (1, 0, 0, 1, 1, 1, 0, 0, 0, 1, 1, 1): 1, (0, 0, 1, 1, 1, 1, 1, 0, 0, 0, 1, 0): 1, (0, 0, 1, 1, 0, 1, 0, 0, 0, 1, 0, 0): 1, (0, 1, 1, 1, 1, 1, 1, 0, 1, 1, 1, 0): 1, (0, 1, 1, 1, 0, 0, 1, 1, 1, 1, 1, 1): 1, (1, 1, 1, 0, 1, 1, 0, 1, 0, 1, 1, 0): 1, (0, 0, 1, 0, 0, 0, 1, 1, 1, 0, 1, 1): 1, (1, 1, 0, 0, 1, 1, 1, 1, 1, 1, 1, 1): 1, (1, 1, 1, 0, 0, 0, 1, 1, 1, 1, 0, 1): 1, (1, 1, 1, 1, 1, 0, 1, 0, 0, 1, 0, 0): 1, (1, 1, 0, 1, 1, 1, 1, 1, 1, 0, 0, 0): 1, (1, 0, 1, 1, 1, 0, 1, 1, 1, 1, 0, 0): 1, (0, 0, 0, 1, 1, 0, 0, 0, 0, 0, 0, 0): 1, (0, 1, 0, 0, 0, 0, 0, 0, 1, 0, 0, 0): 1, (0, 1, 1, 1, 0, 1, 1, 0, 1, 0, 1, 0): 1, (0, 0, 1, 1, 0, 0, 0, 0, 0, 1, 0, 0): 1, (1, 1, 0, 1, 1, 1, 1, 0, 0, 1, 0, 1): 1, (0, 1, 1, 0, 1, 0, 1, 0, 0, 1, 1, 0): 1, (1, 1, 1, 0, 0, 1, 0, 1, 1, 1, 1, 0): 1, (0, 0, 0, 0, 0, 0, 0, 1, 0, 1, 0, 1): 1, (0, 1, 1, 1, 1, 1, 1, 0, 1, 0, 1, 1): 1, (1, 1, 1, 1, 1, 0, 1, 1, 0, 1, 0, 0): 1, (1, 0, 0, 0, 0, 1, 1, 0, 0, 0, 1, 0): 1, (1, 0, 1, 0, 1, 1, 0, 1, 0, 1, 1, 1): 1, (1, 0, 1, 0, 0, 0, 0, 1, 0, 1, 1, 0): 1, (1, 0, 0, 0, 0, 1, 1, 0, 1, 0, 1, 1): 1, (1, 0, 0, 1, 1, 0, 0, 0, 1, 0, 0, 1): 1, (1, 0, 0, 1, 1, 0, 0, 1, 1, 1, 1, 1): 1, (0, 0, 1, 1, 1, 1, 0, 0, 1, 0, 1, 1): 1, (1, 0, 0, 1, 0, 1, 0, 1, 1, 0, 1, 1): 1, (1, 1, 0, 1, 1, 1, 1, 0, 0, 1, 1, 0): 1, (1, 1, 1, 0, 0, 0, 0, 1, 0, 0, 0, 1): 1, (1, 0, 0, 1, 1, 1, 1, 1, 0, 1, 1, 1): 1, (1, 0, 1, 1, 0, 0, 1, 1, 1, 1, 1, 0): 1, (1, 0, 0, 1, 0, 1, 0, 0, 0, 0, 1, 1): 1, (1, 1, 0, 1, 1, 0, 0, 0, 1, 0, 0, 1): 1, (1, 1, 1, 1, 1, 1, 0, 0, 0, 1, 0, 0): 1, (0, 1, 0, 0, 1, 0, 0, 1, 0, 0, 0, 0): 1, (0, 0, 1, 0, 0, 0, 0, 1, 1, 1, 0, 0): 1, (1, 0, 0, 0, 0, 1, 1, 0, 0, 0, 0, 0): 1, (0, 1, 0, 1, 1, 0, 1, 1, 1, 1, 0, 1): 1, (1, 0, 0, 1, 1, 0, 1, 0, 1, 1, 0, 0): 1, (0, 0, 0, 0, 0, 1, 0, 0, 1, 1, 1, 0): 1, (1, 0, 1, 1, 1, 1, 0, 1, 1, 1, 1, 0): 1, (1, 1, 1, 1, 1, 0, 0, 0, 0, 0, 1, 0): 1, (0, 0, 0, 0, 0, 0, 0, 1, 0, 0, 1, 1): 1, (1, 1, 0, 1, 0, 0, 0, 1, 1, 0, 0, 1): 1, (0, 0, 1, 0, 0, 0, 1, 0, 1, 0, 0, 1): 1, (0, 0, 0, 0, 1, 0, 0, 0, 1, 0, 1, 1): 1, (1, 1, 0, 1, 1, 0, 0, 1, 0, 0, 1, 1): 1, (1, 1, 1, 0, 0, 1, 0, 1, 1, 0, 0, 1): 1, (1, 1, 0, 1, 0, 1, 0, 0, 0, 1, 0, 1): 1, (1, 1, 0, 1, 0, 0, 1, 1, 1, 1, 1, 1): 1, (1, 0, 0, 0, 0, 1, 0, 0, 0, 0, 0, 1): 1, (1, 0, 0, 0, 0, 0, 0, 1, 1, 0, 0, 0): 1, (0, 0, 1, 0, 1, 1, 0, 0, 1, 0, 0, 1): 1, (1, 0, 1, 1, 0, 1, 1, 1, 0, 0, 0, 0): 1, (0, 0, 0, 1, 1, 1, 0, 0, 1, 1, 0, 0): 1, (1, 0, 0, 1, 0, 0, 1, 0, 0, 1, 1, 0): 1, (1, 1, 0, 0, 0, 1, 1, 0, 0, 1, 1, 1): 1, (1, 1, 1, 1, 0, 0, 0, 0, 1, 1, 1, 1): 1, (0, 0, 0, 1, 0, 0, 1, 0, 1, 1, 1, 1): 1, (0, 0, 0, 0, 1, 1, 1, 1, 1, 0, 1, 0): 1, (1, 1, 0, 1, 0, 0, 0, 0, 0, 1, 1, 1): 1, (1, 0, 0, 1, 0, 1, 1, 0, 0, 0, 0, 1): 1, (1, 0, 1, 1, 0, 1, 0, 0, 0, 1, 0, 0): 1, (0, 0, 0, 0, 0, 1, 1, 1, 1, 0, 0, 1): 1, (0, 1, 1, 1, 1, 0, 0, 1, 0, 0, 0, 0): 1, (0, 1, 1, 0, 0, 1, 1, 1, 0, 1, 1, 0): 1, (1, 0, 1, 1, 1, 0, 0, 1, 0, 0, 0, 1): 1, (1, 0, 1, 0, 1, 0, 0, 0, 1, 0, 1, 1): 1, (1, 0, 0, 1, 0, 1, 1, 1, 1, 0, 0, 1): 1, (0, 0, 1, 0, 1, 1, 1, 1, 1, 1, 0, 1): 1, (1, 1, 0, 1, 0, 0, 0, 1, 1, 1, 1, 0): 1, (0, 0, 1, 0, 0, 1, 0, 1, 0, 0, 0, 0): 1, (1, 1, 1, 1, 0, 1, 0, 0, 0, 1, 0, 0): 1, (1, 0, 0, 0, 1, 1, 0, 1, 0, 1, 1, 0): 1, (0, 1, 1, 1, 0, 1, 1, 1, 1, 0, 1, 0): 1, (1, 0, 1, 0, 0, 0, 0, 0, 0, 0, 1, 1): 1, (1, 1, 1, 1, 0, 1, 0, 1, 1, 1, 0, 0): 1, (0, 1, 1, 0, 1, 1, 0, 1, 1, 0, 1, 1): 1, (0, 1, 0, 1, 1, 1, 1, 0, 0, 1, 1, 0): 1, (0, 0, 0, 0, 0, 0, 0, 0, 1, 0, 0, 0): 1, (1, 1, 1, 0, 0, 1, 1, 1, 1, 1, 0, 1): 1, (0, 1, 1, 0, 1, 0, 0, 0, 0, 0, 0, 1): 1, (1, 0, 0, 0, 1, 1, 1, 0, 1, 0, 1, 0): 1, (0, 1, 0, 1, 0, 0, 1, 0, 1, 1, 1, 1): 1, (1, 0, 1, 0, 0, 0, 0, 0, 0, 0, 0, 1): 1, (0, 0, 0, 0, 1, 1, 0, 0, 0, 1, 0, 0): 1, (1, 0, 1, 1, 1, 0, 0, 1, 0, 1, 1, 0): 1, (1, 0, 1, 1, 1, 1, 1, 1, 1, 1, 1, 1): 1, (1, 0, 0, 1, 1, 1, 1, 0, 1, 0, 0, 1): 1, (0, 0, 1, 1, 1, 0, 0, 0, 0, 1, 0, 0): 1, (0, 0, 0, 0, 0, 1, 0, 1, 0, 0, 1, 1): 1, (1, 1, 0, 0, 1, 0, 1, 0, 0, 0, 0, 0): 1, (0, 1, 1, 1, 0, 1, 1, 0, 0, 0, 0, 1): 1, (0, 1, 1, 0, 0, 1, 0, 0, 0, 1, 1, 0): 1, (0, 0, 1, 0, 0, 0, 0, 1, 0, 0, 0, 0): 1, (0, 1, 0, 0, 0, 0, 1, 0, 0, 1, 1, 1): 1, (0, 1, 0, 1, 0, 0, 1, 0, 0, 1, 0, 1): 1, (1, 1, 1, 0, 0, 1, 0, 1, 1, 0, 0, 0): 1, (0, 1, 0, 0, 1, 0, 0, 0, 0, 1, 0, 0): 1, (1, 0, 1, 1, 0, 1, 0, 0, 1, 1, 1, 1): 1, (0, 0, 0, 1, 1, 1, 0, 0, 0, 1, 1, 0): 1, (0, 1, 1, 0, 0, 1, 1, 0, 1, 0, 1, 1): 1, (0, 0, 0, 1, 1, 1, 1, 1, 0, 1, 1, 1): 1, (1, 0, 0, 1, 0, 0, 0, 0, 1, 1, 1, 1): 1, (1, 0, 1, 0, 1, 0, 1, 0, 0, 1, 1, 1): 1, (1, 0, 0, 1, 0, 1, 0, 1, 0, 1, 0, 0): 1, (1, 0, 1, 1, 1, 1, 1, 1, 0, 1, 0, 0): 1, (0, 1, 0, 1, 1, 1, 0, 1, 0, 0, 0, 0): 1, (1, 0, 0, 0, 1, 0, 1, 1, 1, 0, 0, 1): 1, (0, 1, 1, 0, 1, 0, 0, 0, 1, 0, 0, 1): 1, (1, 0, 1, 1, 1, 1, 0, 0, 1, 0, 1, 1): 1, (1, 0, 0, 0, 0, 1, 1, 1, 0, 1, 1, 0): 1, (0, 0, 0, 0, 0, 0, 1, 1, 0, 0, 1, 1): 1, (0, 1, 1, 0, 1, 0, 0, 0, 0, 0, 0, 0): 1, (0, 1, 1, 0, 0, 0, 0, 0, 0, 0, 0, 0): 1, (0, 1, 0, 1, 1, 1, 1, 1, 1, 0, 0, 0): 1, (1, 0, 0, 1, 1, 0, 0, 0, 1, 0, 0, 0): 1, (1, 0, 0, 0, 0, 0, 1, 1, 1, 0, 0, 1): 1, (0, 1, 1, 1, 0, 1, 0, 1, 0, 1, 1, 1): 1, (1, 0, 1, 0, 0, 1, 0, 0, 1, 1, 0, 0): 1, (0, 0, 0, 1, 0, 1, 0, 0, 0, 0, 0, 1): 1, (0, 0, 1, 0, 0, 0, 1, 1, 0, 0, 1, 0): 1, (1, 1, 0, 0, 0, 1, 1, 0, 1, 0, 0, 1): 1, (0, 0, 0, 1, 1, 1, 1, 0, 1, 0, 0, 0): 1, (0, 0, 0, 0, 0, 0, 1, 0, 1, 1, 1, 1): 1, (0, 0, 0, 0, 0, 1, 0, 1, 1, 1, 1, 0): 1, (1, 1, 1, 0, 1, 0, 1, 1, 0, 0, 0, 1): 1, (1, 0, 0, 0, 1, 0, 1, 0, 1, 1, 0, 0): 1, (0, 1, 0, 1, 0, 1, 0, 1, 1, 1, 0, 1): 1, (0, 0, 0, 1, 1, 0, 1, 1, 0, 1, 1, 0): 1, (1, 1, 0, 0, 1, 1, 1, 0, 1, 0, 0, 0): 1, (1, 1, 0, 0, 0, 0, 0, 1, 1, 0, 1, 1): 1, (0, 1, 1, 0, 0, 0, 0, 1, 1, 1, 0, 1): 1, (0, 0, 0, 0, 0, 1, 1, 1, 0, 0, 0, 1): 1, (1, 1, 0, 0, 1, 0, 1, 1, 0, 1, 1, 0): 1, (0, 0, 1, 0, 1, 1, 0, 1, 1, 0, 1, 1): 1, (1, 0, 0, 1, 1, 1, 0, 0, 0, 1, 0, 1): 1, (1, 0, 1, 0, 1, 0, 1, 1, 0, 1, 1, 0): 1, (0, 1, 1, 0, 1, 0, 1, 0, 0, 1, 0, 0): 1, (1, 1, 1, 0, 1, 1, 0, 0, 0, 0, 1, 1): 1, (0, 0, 0, 1, 1, 1, 0, 1, 1, 0, 1, 1): 1, (1, 1, 0, 0, 1, 0, 1, 0, 1, 0, 1, 1): 1, (0, 1, 1, 0, 0, 0, 0, 0, 0, 0, 1, 0): 1, (0, 1, 1, 1, 1, 0, 0, 0, 1, 0, 1, 1): 1, (1, 1, 1, 1, 1, 1, 1, 0, 1, 1, 1, 1): 1, (0, 0, 1, 1, 0, 1, 0, 0, 1, 0, 0, 1): 1, (1, 1, 0, 0, 1, 1, 1, 0, 1, 1, 1, 0): 1, (0, 1, 1, 1, 0, 0, 0, 0, 1, 1, 1, 0): 1, (1, 0, 0, 0, 1, 1, 0, 1, 0, 1, 0, 1): 1, (0, 1, 1, 1, 1, 0, 0, 0, 0, 1, 1, 1): 1, (1, 1, 1, 1, 0, 1, 1, 1, 1, 0, 1, 1): 1, (1, 0, 1, 0, 0, 0, 0, 0, 1, 1, 1, 0): 1, (0, 0, 1, 0, 0, 1, 1, 1, 1, 1, 1, 1): 1, (0, 1, 0, 1, 1, 0, 0, 0, 0, 1, 1, 0): 1, (0, 1, 0, 0, 0, 1, 1, 1, 1, 0, 1, 1): 1, (0, 1, 1, 0, 0, 0, 0, 1, 1, 0, 1, 0): 1, (0, 1, 1, 1, 0, 0, 1, 0, 1, 0, 0, 1): 1, (1, 1, 1, 0, 1, 0, 1, 1, 0, 0, 0, 0): 1, (1, 1, 1, 0, 1, 1, 0, 1, 1, 0, 0, 0): 1, (0, 0, 1, 1, 0, 0, 0, 0, 1, 0, 0, 0): 1, (1, 0, 0, 0, 0, 1, 1, 0, 1, 1, 1, 0): 1, (0, 1, 1, 1, 0, 1, 1, 0, 0, 1, 1, 1): 1, (1, 1, 0, 0, 0, 1, 1, 0, 1, 0, 1, 1): 1, (0, 0, 1, 0, 0, 1, 0, 0, 0, 1, 0, 0): 1, (1, 0, 0, 0, 1, 1, 0, 1, 0, 1, 0, 0): 1, (0, 1, 0, 1, 1, 1, 1, 0, 0, 1, 0, 0): 1, (0, 1, 0, 0, 0, 0, 0, 1, 0, 0, 0, 0): 1, (0, 0, 1, 0, 0, 0, 0, 1, 1, 0, 0, 0): 1, (0, 1, 0, 0, 0, 1, 1, 1, 1, 1, 1, 1): 1, (1, 1, 0, 1, 1, 0, 1, 1, 0, 0, 1, 0): 1, (0, 1, 0, 1, 0, 1, 0, 0, 0, 0, 1, 1): 1, (1, 0, 1, 1, 1, 0, 0, 0, 1, 0, 0, 0): 1, (1, 0, 0, 1, 1, 0, 1, 0, 1, 0, 1, 1): 1, (1, 0, 0, 0, 0, 0, 1, 1, 0, 1, 1, 0): 1, (0, 0, 0, 1, 0, 0, 1, 0, 0, 0, 1, 1): 1, (1, 1, 1, 1, 0, 1, 1, 1, 0, 0, 1, 1): 1, (1, 1, 0, 1, 1, 1, 1, 1, 1, 0, 1, 0): 1, (0, 0, 1, 1, 1, 1, 0, 1, 0, 0, 0, 1): 1, (0, 0, 0, 0, 1, 0, 1, 0, 0, 0, 0, 0): 1, (1, 0, 0, 1, 1, 0, 0, 0, 1, 0, 1, 0): 1, (0, 1, 0, 1, 0, 1, 0, 0, 0, 0, 1, 0): 1, (1, 0, 0, 0, 0, 0, 0, 0, 0, 0, 1, 0): 1, (1, 1, 1, 0, 0, 0, 0, 0, 1, 1, 1, 0): 1, (1, 1, 1, 1, 1, 0, 0, 1, 0, 1, 0, 1): 1, (0, 1, 0, 1, 1, 1, 1, 0, 0, 0, 1, 0): 1, (0, 1, 1, 1, 0, 0, 0, 0, 0, 1, 0, 0): 1, (1, 1, 1, 0, 0, 0, 1, 0, 1, 0, 0, 0): 1, (1, 0, 1, 0, 1, 1, 1, 1, 0, 0, 0, 0): 1, (0, 1, 1, 0, 0, 0, 1, 0, 1, 1, 1, 1): 1, (0, 0, 1, 1, 1, 0, 1, 0, 1, 1, 1, 0): 1, (1, 0, 0, 0, 0, 0, 0, 1, 1, 0, 1, 1): 1, (0, 0, 0, 1, 1, 0, 1, 1, 1, 0, 0, 0): 1, (1, 1, 1, 1, 1, 0, 0, 1, 0, 1, 1, 1): 1, (0, 0, 1, 0, 1, 1, 0, 1, 0, 1, 1, 0): 1, (0, 1, 1, 1, 1, 0, 1, 0, 0, 0, 0, 1): 1, (0, 1, 1, 0, 0, 1, 1, 0, 0, 0, 1, 1): 1, (0, 1, 1, 1, 1, 0, 0, 0, 0, 1, 1, 0): 1, (1, 0, 0, 1, 0, 1, 1, 1, 1, 0, 1, 1): 1, (1, 1, 0, 0, 1, 1, 1, 1, 0, 1, 1, 0): 1, (1, 1, 1, 0, 0, 1, 1, 0, 1, 1, 0, 1): 1, (1, 1, 1, 1, 0, 1, 1, 1, 0, 1, 1, 0): 1, (0, 1, 0, 1, 0, 1, 0, 0, 1, 1, 0, 1): 1, (0, 1, 1, 1, 1, 1, 0, 1, 0, 1, 1, 1): 1, (1, 0, 0, 1, 0, 1, 1, 0, 0, 0, 1, 0): 1, (1, 0, 0, 0, 1, 0, 0, 0, 1, 0, 1, 1): 1, (0, 0, 0, 0, 0, 1, 1, 0, 0, 1, 1, 0): 1, (1, 0, 1, 1, 0, 0, 1, 0, 1, 0, 0, 0): 1, (1, 1, 1, 0, 1, 1, 1, 0, 1, 1, 1, 1): 1, (0, 1, 0, 0, 1, 1, 1, 0, 0, 1, 1, 0): 1, (1, 1, 0, 1, 1, 0, 1, 1, 1, 0, 0, 0): 1, (1, 1, 1, 0, 1, 0, 0, 1, 0, 1, 0, 1): 1, (1, 1, 0, 1, 0, 0, 1, 0, 1, 0, 0, 1): 1, (1, 0, 1, 1, 0, 0, 1, 0, 0, 0, 0, 1): 1, (1, 0, 0, 1, 0, 1, 0, 1, 1, 1, 1, 1): 1, (0, 1, 0, 0, 1, 1, 1, 0, 0, 1, 0, 0): 1, (1, 0, 0, 0, 0, 0, 0, 0, 1, 0, 1, 0): 1, (0, 1, 1, 0, 1, 1, 1, 1, 0, 1, 0, 0): 1, (1, 1, 1, 0, 0, 0, 0, 0, 1, 1, 0, 1): 1, (1, 1, 0, 0, 0, 1, 1, 1, 0, 1, 1, 1): 1, (1, 1, 0, 0, 1, 0, 0, 0, 0, 0, 0, 1): 1, (0, 0, 0, 0, 1, 1, 0, 1, 0, 1, 1, 1): 1, (1, 0, 0, 1, 1, 0, 0, 0, 0, 0, 1, 1): 1, (0, 0, 1, 1, 0, 0, 1, 1, 0, 0, 0, 0): 1, (0, 0, 0, 1, 0, 1, 0, 0, 0, 1, 0, 1): 1, (1, 1, 0, 1, 1, 1, 0, 1, 0, 1, 1, 0): 1, (1, 1, 0, 1, 1, 1, 0, 0, 0, 0, 0, 1): 1, (1, 0, 1, 0, 1, 1, 0, 1, 1, 0, 0, 0): 1, (0, 0, 1, 0, 1, 0, 1, 1, 0, 1, 1, 0): 1, (0, 1, 0, 1, 1, 1, 1, 1, 0, 1, 0, 0): 1, (1, 0, 1, 1, 0, 0, 1, 0, 1, 1, 1, 0): 1, (1, 0, 1, 0, 0, 1, 1, 0, 0, 0, 0, 1): 1, (1, 0, 1, 1, 0, 0, 1, 0, 0, 1, 0, 1): 1, (0, 1, 1, 0, 0, 1, 1, 0, 0, 0, 0, 0): 1, (1, 0, 1, 1, 1, 1, 0, 0, 1, 1, 0, 0): 1, (0, 0, 1, 0, 1, 0, 0, 0, 1, 0, 1, 0): 1, (1, 1, 1, 1, 1, 1, 0, 0, 1, 1, 0, 1): 1, (1, 1, 0, 1, 1, 0, 1, 1, 0, 0, 0, 1): 1, (1, 0, 0, 1, 0, 0, 1, 0, 1, 1, 1, 1): 1, (0, 0, 0, 1, 1, 1, 1, 0, 0, 0, 1, 0): 1, (0, 1, 1, 1, 0, 1, 1, 1, 1, 1, 0, 1): 1, (1, 0, 1, 0, 0, 1, 1, 1, 1, 0, 0, 0): 1, (0, 1, 1, 1, 0, 0, 0, 0, 0, 0, 0, 0): 1, (0, 1, 0, 0, 1, 1, 1, 0, 1, 1, 1, 1): 1, (1, 0, 0, 1, 0, 1, 1, 0, 1, 0, 0, 0): 1, (1, 0, 0, 0, 1, 0, 1, 1, 0, 1, 1, 0): 1, (0, 0, 0, 1, 0, 1, 0, 0, 1, 0, 1, 0): 1, (0, 1, 0, 0, 0, 1, 1, 0, 1, 1, 1, 1): 1, (1, 1, 1, 0, 0, 0, 0, 0, 0, 1, 1, 0): 1, (1, 1, 1, 1, 0, 1, 0, 0, 0, 1, 1, 1): 1, (0, 0, 1, 1, 0, 0, 0, 0, 0, 0, 1, 0): 1, (1, 1, 0, 0, 0, 1, 0, 1, 0, 0, 0, 0): 1, (1, 1, 0, 0, 0, 0, 0, 1, 1, 1, 1, 1): 1, (1, 1, 0, 0, 1, 0, 0, 0, 0, 1, 0, 0): 1, (1, 0, 0, 1, 1, 1, 1, 1, 0, 0, 1, 0): 1, (0, 0, 1, 0, 0, 0, 0, 1, 0, 0, 1, 0): 1, (0, 0, 0, 1, 0, 0, 0, 1, 0, 0, 0, 1): 1, (1, 0, 1, 1, 0, 1, 1, 0, 1, 1, 0, 1): 1, (0, 1, 0, 0, 1, 0, 0, 0, 0, 1, 1, 1): 1, (1, 0, 1, 1, 0, 1, 0, 1, 0, 0, 0, 0): 1, (1, 0, 1, 0, 0, 0, 0, 1, 0, 1, 0, 1): 1, (0, 1, 1, 0, 1, 0, 1, 1, 1, 1, 0, 1): 1, (1, 1, 1, 1, 1, 0, 1, 0, 0, 0, 0, 0): 1, (0, 0, 0, 1, 1, 0, 1, 1, 0, 1, 0, 1): 1, (0, 1, 0, 0, 0, 1, 1, 1, 0, 1, 0, 1): 1, (1, 0, 0, 0, 0, 0, 1, 1, 0, 0, 0, 1): 1, (1, 1, 0, 0, 0, 0, 0, 1, 0, 1, 0, 1): 1, (0, 0, 1, 0, 1, 1, 1, 0, 0, 0, 1, 0): 1, (1, 0, 1, 0, 0, 1, 1, 1, 0, 0, 1, 1): 1, (0, 1, 1, 0, 1, 1, 0, 0, 0, 0, 0, 1): 1, (0, 0, 0, 1, 0, 1, 1, 0, 0, 0, 0, 1): 1, (0, 1, 0, 1, 1, 1, 1, 1, 1, 1, 1, 1): 1, (0, 1, 0, 0, 1, 0, 1, 1, 1, 1, 1, 1): 1, (1, 0, 0, 1, 0, 0, 1, 0, 1, 0, 1, 1): 1, (1, 0, 0, 1, 1, 0, 1, 1, 1, 1, 1, 1): 1, (1, 0, 0, 1, 1, 1, 0, 1, 1, 0, 1, 1): 1, (0, 0, 1, 1, 0, 1, 1, 1, 1, 0, 0, 1): 1, (0, 0, 1, 0, 0, 1, 0, 1, 1, 1, 0, 1): 1, (0, 0, 0, 1, 0, 0, 0, 0, 0, 0, 1, 0): 1, (0, 0, 0, 0, 0, 1, 0, 0, 1, 0, 1, 1): 1, (0, 1, 1, 1, 1, 1, 1, 1, 0, 1, 0, 0): 1, (0, 0, 1, 0, 1, 1, 1, 1, 1, 0, 1, 0): 1, (1, 1, 1, 1, 0, 0, 0, 1, 0, 1, 1, 1): 1, (1, 0, 1, 0, 1, 1, 1, 0, 0, 0, 0, 0): 1, (0, 1, 1, 0, 0, 0, 0, 0, 0, 1, 1, 1): 1, (1, 0, 1, 0, 1, 1, 1, 0, 1, 0, 1, 1): 1, (0, 0, 1, 0, 0, 0, 0, 0, 1, 0, 0, 0): 1, (1, 0, 1, 1, 1, 0, 1, 1, 1, 0, 0, 1): 1, (1, 0, 1, 0, 0, 1, 1, 1, 0, 0, 0, 1): 1, (0, 1, 0, 1, 1, 1, 1, 0, 0, 0, 1, 1): 1, (1, 0, 1, 1, 1, 0, 1, 0, 0, 1, 1, 0): 1, (1, 0, 0, 1, 0, 1, 1, 0, 0, 1, 1, 0): 1, (0, 1, 0, 1, 1, 1, 0, 0, 1, 0, 1, 1): 1, (1, 0, 0, 0, 1, 1, 0, 0, 1, 1, 0, 1): 1, (0, 0, 1, 0, 0, 1, 0, 1, 0, 0, 0, 1): 1, (1, 1, 0, 0, 1, 0, 0, 0, 0, 1, 0, 1): 1, (1, 1, 1, 0, 1, 1, 1, 1, 1, 0, 0, 1): 1, (0, 0, 0, 0, 1, 1, 0, 0, 1, 0, 0, 0): 1, (1, 0, 1, 0, 0, 0, 1, 0, 0, 0, 1, 1): 1, (1, 1, 1, 0, 1, 0, 0, 0, 1, 1, 1, 0): 1, (0, 0, 1, 1, 0, 0, 1, 1, 0, 1, 1, 0): 1, (1, 1, 1, 0, 1, 1, 1, 0, 1, 0, 0, 0): 1, (1, 1, 1, 1, 1, 0, 0, 1, 1, 1, 1, 0): 1, (0, 1, 1, 1, 0, 0, 1, 0, 0, 1, 1, 0): 1, (1, 1, 1, 0, 1, 1, 1, 1, 0, 1, 0, 1): 1, (0, 1, 1, 1, 1, 0, 0, 0, 0, 0, 0, 0): 1, (1, 0, 0, 1, 0, 1, 1, 0, 1, 1, 0, 0): 1, (1, 1, 0, 1, 1, 0, 1, 1, 0, 1, 0, 0): 1, (0, 1, 0, 0, 1, 0, 1, 1, 1, 1, 1, 0): 1, (1, 1, 1, 1, 1, 0, 1, 1, 0, 0, 0, 1): 1, (1, 0, 1, 1, 0, 1, 0, 1, 1, 0, 0, 1): 1, (1, 1, 1, 0, 1, 0, 1, 1, 1, 1, 0, 1): 1, (0, 0, 1, 1, 1, 0, 0, 0, 1, 0, 1, 1): 1, (1, 1, 1, 1, 1, 0, 0, 0, 0, 0, 1, 1): 1, (0, 1, 1, 1, 1, 0, 1, 1, 0, 1, 1, 1): 1, (1, 0, 1, 0, 1, 0, 1, 1, 0, 1, 0, 1): 1, (0, 0, 0, 0, 0, 1, 1, 0, 0, 0, 1, 1): 1, (0, 1, 0, 0, 0, 1, 1, 1, 0, 1, 0, 0): 1, (1, 0, 1, 1, 0, 1, 1, 1, 0, 0, 1, 0): 1, (1, 0, 0, 1, 0, 0, 0, 1, 0, 0, 0, 0): 1, (0, 1, 1, 1, 0, 0, 0, 1, 0, 1, 0, 1): 1, (1, 1, 1, 1, 0, 0, 1, 0, 0, 1, 1, 0): 1, (1, 0, 0, 1, 1, 1, 0, 1, 0, 1, 0, 0): 1, (0, 0, 0, 1, 0, 0, 1, 0, 1, 0, 0, 0): 1, (0, 1, 0, 1, 1, 0, 0, 1, 1, 1, 0, 0): 1, (1, 1, 1, 1, 1, 0, 0, 0, 0, 1, 0, 1): 1, (1, 1, 1, 0, 0, 1, 1, 1, 0, 0, 0, 0): 1, (1, 1, 1, 1, 1, 1, 1, 1, 1, 1, 0, 0): 1, (0, 0, 1, 1, 0, 1, 1, 1, 1, 1, 0, 0): 1, (0, 0, 0, 0, 1, 0, 1, 1, 0, 1, 1, 1): 1, (0, 0, 1, 0, 1, 1, 0, 1, 1, 1, 1, 1): 1, (0, 0, 0, 0, 0, 1, 0, 0, 0, 1, 1, 0): 1, (0, 0, 1, 1, 0, 1, 0, 1, 1, 1, 1, 0): 1, (0, 1, 0, 1, 0, 0, 1, 0, 1, 1, 0, 0): 1, (1, 0, 1, 1, 1, 0, 0, 0, 1, 1, 1, 1): 1, (1, 0, 1, 1, 0, 1, 1, 0, 0, 0, 1, 0): 1, (0, 1, 1, 1, 0, 1, 1, 1, 1, 0, 1, 1): 1, (0, 0, 0, 0, 0, 0, 0, 0, 1, 0, 1, 0): 1, (0, 1, 1, 0, 1, 1, 1, 0, 0, 0, 1, 1): 1, (1, 0, 1, 1, 1, 1, 1, 0, 1, 1, 0, 1): 1, (0, 0, 1, 1, 0, 0, 1, 1, 0, 0, 1, 0): 1, (0, 1, 1, 0, 0, 0, 1, 0, 1, 0, 0, 0): 1, (0, 0, 0, 1, 1, 1, 0, 1, 0, 1, 0, 0): 1, (0, 0, 1, 1, 0, 0, 1, 1, 0, 1, 1, 1): 1, (0, 1, 0, 0, 0, 0, 0, 1, 0, 0, 0, 1): 1, (1, 0, 0, 1, 0, 1, 0, 0, 0, 0, 0, 1): 1, (0, 1, 1, 1, 1, 0, 0, 1, 0, 0, 1, 0): 1, (1, 0, 0, 1, 1, 1, 0, 1, 0, 0, 1, 0): 1, (0, 1, 1, 1, 1, 1, 1, 0, 0, 0, 1, 1): 1, (0, 0, 0, 1, 1, 0, 1, 1, 0, 0, 0, 1): 1, (1, 1, 1, 0, 1, 1, 0, 0, 0, 0, 0, 0): 1, (1, 1, 1, 1, 0, 0, 0, 1, 0, 1, 1, 0): 1, (0, 1, 0, 1, 0, 0, 0, 0, 1, 0, 1, 1): 1, (1, 0, 0, 1, 1, 0, 1, 1, 0, 1, 0, 1): 1, (0, 0, 0, 0, 0, 1, 1, 0, 1, 0, 1, 1): 1, (0, 0, 1, 1, 1, 1, 1, 0, 0, 1, 1, 1): 1, (1, 0, 1, 1, 0, 0, 0, 0, 0, 1, 1, 0): 1, (1, 1, 1, 1, 1, 0, 0, 0, 1, 0, 0, 1): 1, (0, 1, 1, 1, 0, 0, 0, 1, 0, 1, 0, 0): 1, (0, 1, 1, 0, 1, 0, 1, 1, 1, 0, 1, 0): 1, (0, 0, 1, 0, 1, 1, 1, 0, 0, 1, 0, 1): 1, (1, 0, 0, 0, 1, 0, 0, 0, 1, 0, 0, 1): 1, (0, 0, 1, 1, 1, 1, 1, 0, 0, 0, 0, 0): 1, (1, 0, 1, 0, 1, 1, 0, 0, 0, 1, 0, 0): 1, (0, 0, 0, 0, 1, 1, 0, 1, 1, 0, 1, 1): 1, (1, 0, 1, 0, 1, 0, 0, 1, 0, 0, 1, 0): 1, (1, 1, 1, 1, 0, 0, 1, 0, 0, 0, 0, 0): 1, (1, 0, 1, 1, 1, 0, 1, 0, 1, 0, 0, 1): 1, (0, 0, 1, 0, 0, 0, 0, 0, 1, 0, 1, 0): 1, (0, 0, 1, 0, 0, 0, 1, 0, 0, 0, 1, 1): 1, (1, 0, 1, 0, 0, 1, 0, 1, 0, 1, 0, 0): 1, (1, 0, 1, 1, 1, 0, 0, 0, 0, 1, 1, 0): 1, (0, 1, 1, 0, 1, 1, 1, 0, 1, 1, 1, 0): 1, (0, 1, 0, 0, 1, 0, 0, 0, 0, 0, 0, 0): 1, (0, 0, 1, 0, 1, 1, 0, 0, 0, 1, 1, 1): 1, (1, 1, 0, 0, 0, 1, 1, 1, 1, 1, 0, 1): 1, (0, 1, 0, 1, 0, 0, 1, 0, 0, 0, 0, 1): 1, (0, 1, 1, 0, 0, 0, 0, 1, 0, 0, 0, 1): 1, (0, 0, 1, 1, 1, 1, 1, 1, 0, 0, 0, 0): 1, (0, 0, 1, 1, 1, 1, 0, 0, 1, 0, 0, 0): 1, (0, 1, 1, 1, 0, 1, 1, 0, 1, 1, 1, 0): 1, (0, 0, 1, 1, 0, 0, 1, 1, 1, 1, 1, 1): 1, (0, 1, 1, 1, 0, 0, 1, 1, 0, 0, 0, 1): 1, (0, 1, 1, 1, 1, 0, 0, 1, 1, 1, 1, 1): 1, (1, 1, 1, 0, 0, 1, 1, 1, 1, 0, 0, 1): 1, (0, 1, 0, 1, 0, 0, 0, 0, 0, 0, 1, 0): 1, (1, 0, 1, 1, 1, 1, 0, 0, 0, 1, 1, 1): 1, (1, 1, 1, 0, 0, 1, 1, 1, 0, 0, 0, 1): 1, (1, 1, 0, 0, 0, 0, 0, 0, 0, 1, 1, 1): 1, (0, 0, 1, 1, 1, 0, 0, 0, 1, 1, 0, 0): 1, (1, 1, 1, 1, 1, 1, 0, 1, 0, 0, 0, 1): 1, (0, 1, 0, 1, 1, 1, 0, 1, 0, 1, 0, 1): 1, (1, 0, 0, 0, 0, 0, 0, 0, 1, 1, 0, 1): 1, (0, 0, 1, 1, 0, 1, 0, 0, 1, 0, 0, 0): 1, (0, 0, 1, 1, 1, 0, 0, 1, 0, 1, 0, 1): 1, (1, 0, 1, 1, 1, 0, 0, 0, 1, 0, 0, 1): 1, (0, 0, 1, 1, 0, 1, 1, 0, 0, 1, 1, 0): 1, (1, 1, 0, 0, 1, 0, 1, 0, 1, 1, 0, 1): 1, (0, 1, 1, 1, 1, 1, 0, 0, 0, 1, 1, 1): 1, (0, 1, 0, 1, 1, 0, 0, 1, 1, 0, 0, 0): 1, (0, 1, 1, 0, 1, 0, 1, 0, 1, 0, 1, 0): 1, (0, 1, 1, 0, 1, 1, 0, 0, 1, 0, 0, 0): 1, (1, 0, 1, 0, 0, 0, 0, 0, 1, 0, 0, 0): 1, (0, 1, 1, 1, 0, 1, 0, 1, 0, 1, 0, 1): 1, (0, 0, 0, 0, 0, 1, 0, 0, 0, 0, 0, 0): 1, (1, 0, 1, 0, 1, 0, 1, 0, 0, 0, 0, 0): 1, (1, 1, 1, 0, 1, 1, 0, 0, 0, 1, 0, 0): 1, (1, 1, 0, 0, 1, 1, 1, 1, 0, 0, 0, 0): 1, (0, 0, 1, 0, 1, 0, 0, 0, 1, 0, 1, 1): 1, (1, 0, 0, 0, 1, 1, 0, 1, 0, 1, 1, 1): 1, (1, 0, 1, 0, 0, 1, 0, 1, 0, 0, 0, 0): 1, (0, 0, 0, 1, 1, 0, 0, 0, 0, 1, 1, 1): 1, (1, 1, 0, 0, 0, 1, 1, 1, 1, 0, 0, 0): 1, (1, 0, 1, 1, 0, 0, 1, 1, 0, 0, 1, 0): 1, (0, 0, 1, 0, 0, 0, 0, 1, 1, 1, 1, 1): 1, (0, 0, 0, 0, 0, 1, 1, 0, 0, 0, 0, 0): 1, (0, 1, 1, 0, 0, 0, 0, 1, 0, 0, 0, 0): 1, (0, 0, 1, 1, 1, 0, 0, 1, 1, 0, 1, 1): 1, (0, 0, 1, 1, 0, 1, 1, 1, 1, 0, 0, 0): 1, (1, 0, 0, 0, 0, 0, 1, 0, 1, 1, 1, 0): 1, (1, 0, 0, 1, 0, 1, 1, 1, 0, 0, 0, 0): 1, (1, 0, 0, 0, 1, 0, 1, 0, 1, 1, 1, 1): 1, (0, 0, 1, 1, 1, 0, 0, 0, 0, 0, 0, 0): 1, (0, 1, 1, 0, 1, 1, 0, 0, 1, 1, 1, 1): 1, (0, 1, 0, 1, 0, 1, 1, 0, 1, 0, 1, 0): 1, (0, 0, 0, 1, 0, 0, 0, 0, 0, 0, 0, 0): 1, (0, 1, 1, 0, 0, 0, 1, 1, 0, 1, 1, 0): 1, (0, 0, 1, 0, 1, 1, 1, 0, 1, 0, 0, 1): 1, (0, 0, 0, 0, 1, 1, 0, 0, 1, 1, 1, 1): 1, (1, 1, 1, 1, 1, 0, 1, 1, 1, 1, 1, 0): 1, (1, 0, 1, 1, 0, 1, 0, 1, 1, 0, 1, 1): 1, (0, 0, 1, 0, 0, 0, 0, 1, 1, 1, 1, 0): 1, (0, 1, 0, 0, 0, 0, 0, 0, 0, 1, 1, 0): 1, (1, 0, 0, 0, 1, 0, 1, 0, 1, 1, 1, 0): 1, (0, 1, 1, 1, 1, 0, 1, 0, 0, 1, 1, 0): 1, (0, 1, 0, 1, 0, 1, 1, 1, 1, 1, 0, 1): 1, (1, 1, 0, 1, 0, 1, 1, 0, 1, 1, 0, 1): 1, (0, 1, 0, 0, 1, 1, 0, 1, 1, 0, 0, 0): 1, (0, 1, 0, 0, 0, 1, 1, 1, 1, 0, 0, 0): 1, (0, 1, 1, 1, 1, 1, 0, 0, 1, 1, 0, 1): 1, (0, 0, 0, 1, 0, 0, 0, 1, 0, 1, 1, 0): 1, (0, 1, 0, 0, 0, 1, 0, 1, 1, 1, 1, 0): 1, (0, 1, 0, 1, 0, 1, 1, 0, 1, 1, 0, 0): 1, (0, 0, 1, 1, 1, 0, 1, 0, 1, 1, 0, 0): 1, (0, 1, 1, 0, 0, 1, 0, 0, 0, 1, 1, 1): 1, (0, 1, 1, 0, 1, 0, 1, 1, 1, 0, 0, 1): 1, (0, 1, 1, 0, 0, 0, 1, 1, 0, 0, 0, 1): 1, (1, 1, 0, 0, 1, 1, 1, 0, 1, 1, 1, 1): 1, (1, 1, 0, 1, 0, 1, 0, 0, 1, 0, 1, 1): 1, (1, 1, 1, 1, 0, 1, 0, 1, 0, 1, 0, 1): 1, (1, 1, 0, 0, 1, 1, 0, 1, 0, 0, 1, 1): 1, (0, 0, 1, 0, 1, 1, 0, 0, 0, 1, 0, 0): 1})\n",
            "Processing counts...\n"
          ]
        }
      ],
      "source": [
        "!cd /content/drive/MyDrive/Linux/PyNTRU/PyNTRU &&"
      ]
    },
    {
      "cell_type": "code",
      "execution_count": 6,
      "metadata": {
        "colab": {
          "base_uri": "https://localhost:8080/"
        },
        "id": "j6cqYqDaTAw-",
        "outputId": "b556175f-a5a2-477b-ab06-18f99d58bf7c"
      },
      "outputs": [
        {
          "output_type": "stream",
          "name": "stdout",
          "text": [
            "Collecting qiskit_ibm_provider\n",
            "  Downloading qiskit_ibm_provider-0.11.0-py3-none-any.whl.metadata (7.6 kB)\n",
            "Requirement already satisfied: qiskit>=0.45.0 in /usr/local/lib/python3.10/dist-packages (from qiskit_ibm_provider) (1.3.0)\n",
            "Requirement already satisfied: requests>=2.19 in /usr/local/lib/python3.10/dist-packages (from qiskit_ibm_provider) (2.32.3)\n",
            "Requirement already satisfied: requests-ntlm>=1.1.0 in /usr/local/lib/python3.10/dist-packages (from qiskit_ibm_provider) (1.3.0)\n",
            "Requirement already satisfied: numpy>=1.13 in /usr/local/lib/python3.10/dist-packages (from qiskit_ibm_provider) (1.26.4)\n",
            "Requirement already satisfied: urllib3>=1.21.1 in /usr/local/lib/python3.10/dist-packages (from qiskit_ibm_provider) (1.26.20)\n",
            "Requirement already satisfied: python-dateutil>=2.8.0 in /usr/local/lib/python3.10/dist-packages (from qiskit_ibm_provider) (2.8.2)\n",
            "Requirement already satisfied: websocket-client>=1.5.1 in /usr/local/lib/python3.10/dist-packages (from qiskit_ibm_provider) (1.8.0)\n",
            "Collecting websockets>=10.0 (from qiskit_ibm_provider)\n",
            "  Downloading websockets-14.1-cp310-cp310-manylinux_2_5_x86_64.manylinux1_x86_64.manylinux_2_17_x86_64.manylinux2014_x86_64.whl.metadata (6.7 kB)\n",
            "Requirement already satisfied: typing-extensions>=4.3 in /usr/local/lib/python3.10/dist-packages (from qiskit_ibm_provider) (4.12.2)\n",
            "Requirement already satisfied: six>=1.5 in /usr/local/lib/python3.10/dist-packages (from python-dateutil>=2.8.0->qiskit_ibm_provider) (1.17.0)\n",
            "Requirement already satisfied: rustworkx>=0.15.0 in /usr/local/lib/python3.10/dist-packages (from qiskit>=0.45.0->qiskit_ibm_provider) (0.15.1)\n",
            "Requirement already satisfied: scipy>=1.5 in /usr/local/lib/python3.10/dist-packages (from qiskit>=0.45.0->qiskit_ibm_provider) (1.13.1)\n",
            "Requirement already satisfied: sympy>=1.3 in /usr/local/lib/python3.10/dist-packages (from qiskit>=0.45.0->qiskit_ibm_provider) (1.13.1)\n",
            "Requirement already satisfied: dill>=0.3 in /usr/local/lib/python3.10/dist-packages (from qiskit>=0.45.0->qiskit_ibm_provider) (0.3.9)\n",
            "Requirement already satisfied: stevedore>=3.0.0 in /usr/local/lib/python3.10/dist-packages (from qiskit>=0.45.0->qiskit_ibm_provider) (5.4.0)\n",
            "Requirement already satisfied: symengine<0.14,>=0.11 in /usr/local/lib/python3.10/dist-packages (from qiskit>=0.45.0->qiskit_ibm_provider) (0.13.0)\n",
            "Requirement already satisfied: charset-normalizer<4,>=2 in /usr/local/lib/python3.10/dist-packages (from requests>=2.19->qiskit_ibm_provider) (3.4.0)\n",
            "Requirement already satisfied: idna<4,>=2.5 in /usr/local/lib/python3.10/dist-packages (from requests>=2.19->qiskit_ibm_provider) (3.10)\n",
            "Requirement already satisfied: certifi>=2017.4.17 in /usr/local/lib/python3.10/dist-packages (from requests>=2.19->qiskit_ibm_provider) (2024.8.30)\n",
            "Requirement already satisfied: cryptography>=1.3 in /usr/local/lib/python3.10/dist-packages (from requests-ntlm>=1.1.0->qiskit_ibm_provider) (43.0.3)\n",
            "Requirement already satisfied: pyspnego>=0.4.0 in /usr/local/lib/python3.10/dist-packages (from requests-ntlm>=1.1.0->qiskit_ibm_provider) (0.11.2)\n",
            "Requirement already satisfied: cffi>=1.12 in /usr/local/lib/python3.10/dist-packages (from cryptography>=1.3->requests-ntlm>=1.1.0->qiskit_ibm_provider) (1.17.1)\n",
            "Requirement already satisfied: pbr>=2.0.0 in /usr/local/lib/python3.10/dist-packages (from stevedore>=3.0.0->qiskit>=0.45.0->qiskit_ibm_provider) (6.1.0)\n",
            "Requirement already satisfied: mpmath<1.4,>=1.1.0 in /usr/local/lib/python3.10/dist-packages (from sympy>=1.3->qiskit>=0.45.0->qiskit_ibm_provider) (1.3.0)\n",
            "Requirement already satisfied: pycparser in /usr/local/lib/python3.10/dist-packages (from cffi>=1.12->cryptography>=1.3->requests-ntlm>=1.1.0->qiskit_ibm_provider) (2.22)\n",
            "Downloading qiskit_ibm_provider-0.11.0-py3-none-any.whl (249 kB)\n",
            "\u001b[2K   \u001b[90m━━━━━━━━━━━━━━━━━━━━━━━━━━━━━━━━━━━━━━━━\u001b[0m \u001b[32m249.9/249.9 kB\u001b[0m \u001b[31m9.5 MB/s\u001b[0m eta \u001b[36m0:00:00\u001b[0m\n",
            "\u001b[?25hDownloading websockets-14.1-cp310-cp310-manylinux_2_5_x86_64.manylinux1_x86_64.manylinux_2_17_x86_64.manylinux2014_x86_64.whl (168 kB)\n",
            "\u001b[2K   \u001b[90m━━━━━━━━━━━━━━━━━━━━━━━━━━━━━━━━━━━━━━━━\u001b[0m \u001b[32m168.2/168.2 kB\u001b[0m \u001b[31m16.1 MB/s\u001b[0m eta \u001b[36m0:00:00\u001b[0m\n",
            "\u001b[?25hInstalling collected packages: websockets, qiskit_ibm_provider\n",
            "Successfully installed qiskit_ibm_provider-0.11.0 websockets-14.1\n",
            "Collecting utils\n",
            "  Downloading utils-1.0.2.tar.gz (13 kB)\n",
            "  Preparing metadata (setup.py) ... \u001b[?25l\u001b[?25hdone\n",
            "Building wheels for collected packages: utils\n",
            "  Building wheel for utils (setup.py) ... \u001b[?25l\u001b[?25hdone\n",
            "  Created wheel for utils: filename=utils-1.0.2-py2.py3-none-any.whl size=13906 sha256=9fe0cadc3c5358f3c72f0aafcc6ceec776914fae6aa3f417e549d50f75c6c388\n",
            "  Stored in directory: /root/.cache/pip/wheels/b8/39/f5/9d0ca31dba85773ececf0a7f5469f18810e1c8a8ed9da28ca7\n",
            "Successfully built utils\n",
            "Installing collected packages: utils\n",
            "Successfully installed utils-1.0.2\n",
            "Collecting bitarray\n",
            "  Downloading bitarray-3.0.0-cp310-cp310-manylinux_2_17_x86_64.manylinux2014_x86_64.whl.metadata (32 kB)\n",
            "Downloading bitarray-3.0.0-cp310-cp310-manylinux_2_17_x86_64.manylinux2014_x86_64.whl (278 kB)\n",
            "\u001b[2K   \u001b[90m━━━━━━━━━━━━━━━━━━━━━━━━━━━━━━━━━━━━━━━━\u001b[0m \u001b[32m278.3/278.3 kB\u001b[0m \u001b[31m16.0 MB/s\u001b[0m eta \u001b[36m0:00:00\u001b[0m\n",
            "\u001b[?25hInstalling collected packages: bitarray\n",
            "Successfully installed bitarray-3.0.0\n",
            "Collecting tolist\n",
            "  Downloading tolist-0.0.post0.tar.gz (670 bytes)\n",
            "  \u001b[1;31merror\u001b[0m: \u001b[1msubprocess-exited-with-error\u001b[0m\n",
            "  \n",
            "  \u001b[31m×\u001b[0m \u001b[32mpython setup.py egg_info\u001b[0m did not run successfully.\n",
            "  \u001b[31m│\u001b[0m exit code: \u001b[1;36m1\u001b[0m\n",
            "  \u001b[31m╰─>\u001b[0m See above for output.\n",
            "  \n",
            "  \u001b[1;35mnote\u001b[0m: This error originates from a subprocess, and is likely not a problem with pip.\n",
            "  Preparing metadata (setup.py) ... \u001b[?25l\u001b[?25herror\n",
            "\u001b[1;31merror\u001b[0m: \u001b[1mmetadata-generation-failed\u001b[0m\n",
            "\n",
            "\u001b[31m×\u001b[0m Encountered error while generating package metadata.\n",
            "\u001b[31m╰─>\u001b[0m See above for output.\n",
            "\n",
            "\u001b[1;35mnote\u001b[0m: This is an issue with the package mentioned above, not pip.\n",
            "\u001b[1;36mhint\u001b[0m: See above for details.\n"
          ]
        }
      ],
      "source": [
        "!pip install qiskit_ibm_provider && pip install utils && pip install bitarray && pip3 install tolist"
      ]
    },
    {
      "cell_type": "code",
      "execution_count": 7,
      "metadata": {
        "colab": {
          "base_uri": "https://localhost:8080/"
        },
        "id": "wqhCjL1FsK5o",
        "outputId": "e29977fe-be63-4c94-f427-d4f3c12605c7"
      },
      "outputs": [
        {
          "output_type": "stream",
          "name": "stdout",
          "text": [
            "Requirement already satisfied: cirq in /usr/local/lib/python3.10/dist-packages (1.4.1)\n",
            "Requirement already satisfied: cirq-aqt==1.4.1 in /usr/local/lib/python3.10/dist-packages (from cirq) (1.4.1)\n",
            "Requirement already satisfied: cirq-core==1.4.1 in /usr/local/lib/python3.10/dist-packages (from cirq) (1.4.1)\n",
            "Requirement already satisfied: cirq-google==1.4.1 in /usr/local/lib/python3.10/dist-packages (from cirq) (1.4.1)\n",
            "Requirement already satisfied: cirq-ionq==1.4.1 in /usr/local/lib/python3.10/dist-packages (from cirq) (1.4.1)\n",
            "Requirement already satisfied: cirq-pasqal==1.4.1 in /usr/local/lib/python3.10/dist-packages (from cirq) (1.4.1)\n",
            "Requirement already satisfied: cirq-rigetti==1.4.1 in /usr/local/lib/python3.10/dist-packages (from cirq) (1.4.1)\n",
            "Requirement already satisfied: cirq-web==1.4.1 in /usr/local/lib/python3.10/dist-packages (from cirq) (1.4.1)\n",
            "Requirement already satisfied: requests~=2.18 in /usr/local/lib/python3.10/dist-packages (from cirq-aqt==1.4.1->cirq) (2.32.3)\n",
            "Requirement already satisfied: attrs>=21.3.0 in /usr/local/lib/python3.10/dist-packages (from cirq-core==1.4.1->cirq) (24.2.0)\n",
            "Requirement already satisfied: duet>=0.2.8 in /usr/local/lib/python3.10/dist-packages (from cirq-core==1.4.1->cirq) (0.2.9)\n",
            "Requirement already satisfied: matplotlib~=3.0 in /usr/local/lib/python3.10/dist-packages (from cirq-core==1.4.1->cirq) (3.8.0)\n",
            "Requirement already satisfied: networkx>=2.4 in /usr/local/lib/python3.10/dist-packages (from cirq-core==1.4.1->cirq) (3.4.2)\n",
            "Requirement already satisfied: numpy~=1.22 in /usr/local/lib/python3.10/dist-packages (from cirq-core==1.4.1->cirq) (1.26.4)\n",
            "Requirement already satisfied: pandas in /usr/local/lib/python3.10/dist-packages (from cirq-core==1.4.1->cirq) (2.2.2)\n",
            "Requirement already satisfied: sortedcontainers~=2.0 in /usr/local/lib/python3.10/dist-packages (from cirq-core==1.4.1->cirq) (2.4.0)\n",
            "Requirement already satisfied: scipy~=1.0 in /usr/local/lib/python3.10/dist-packages (from cirq-core==1.4.1->cirq) (1.13.1)\n",
            "Requirement already satisfied: sympy in /usr/local/lib/python3.10/dist-packages (from cirq-core==1.4.1->cirq) (1.13.1)\n",
            "Requirement already satisfied: typing-extensions>=4.2 in /usr/local/lib/python3.10/dist-packages (from cirq-core==1.4.1->cirq) (4.12.2)\n",
            "Requirement already satisfied: tqdm in /usr/local/lib/python3.10/dist-packages (from cirq-core==1.4.1->cirq) (4.66.6)\n",
            "Requirement already satisfied: google-api-core>=1.14.0 in /usr/local/lib/python3.10/dist-packages (from google-api-core[grpc]>=1.14.0->cirq-google==1.4.1->cirq) (2.19.2)\n",
            "Requirement already satisfied: proto-plus>=1.20.0 in /usr/local/lib/python3.10/dist-packages (from cirq-google==1.4.1->cirq) (1.25.0)\n",
            "Requirement already satisfied: protobuf<5.0.0,>=3.15.0 in /usr/local/lib/python3.10/dist-packages (from cirq-google==1.4.1->cirq) (4.25.5)\n",
            "Requirement already satisfied: pyquil<5.0.0,>=4.11.0 in /usr/local/lib/python3.10/dist-packages (from cirq-rigetti==1.4.1->cirq) (4.15.0)\n",
            "Requirement already satisfied: googleapis-common-protos<2.0.dev0,>=1.56.2 in /usr/local/lib/python3.10/dist-packages (from google-api-core>=1.14.0->google-api-core[grpc]>=1.14.0->cirq-google==1.4.1->cirq) (1.66.0)\n",
            "Requirement already satisfied: google-auth<3.0.dev0,>=2.14.1 in /usr/local/lib/python3.10/dist-packages (from google-api-core>=1.14.0->google-api-core[grpc]>=1.14.0->cirq-google==1.4.1->cirq) (2.27.0)\n",
            "Requirement already satisfied: grpcio<2.0dev,>=1.33.2 in /usr/local/lib/python3.10/dist-packages (from google-api-core[grpc]>=1.14.0->cirq-google==1.4.1->cirq) (1.68.1)\n",
            "Requirement already satisfied: grpcio-status<2.0.dev0,>=1.33.2 in /usr/local/lib/python3.10/dist-packages (from google-api-core[grpc]>=1.14.0->cirq-google==1.4.1->cirq) (1.62.3)\n",
            "Requirement already satisfied: contourpy>=1.0.1 in /usr/local/lib/python3.10/dist-packages (from matplotlib~=3.0->cirq-core==1.4.1->cirq) (1.3.1)\n",
            "Requirement already satisfied: cycler>=0.10 in /usr/local/lib/python3.10/dist-packages (from matplotlib~=3.0->cirq-core==1.4.1->cirq) (0.12.1)\n",
            "Requirement already satisfied: fonttools>=4.22.0 in /usr/local/lib/python3.10/dist-packages (from matplotlib~=3.0->cirq-core==1.4.1->cirq) (4.55.2)\n",
            "Requirement already satisfied: kiwisolver>=1.0.1 in /usr/local/lib/python3.10/dist-packages (from matplotlib~=3.0->cirq-core==1.4.1->cirq) (1.4.7)\n",
            "Requirement already satisfied: packaging>=20.0 in /usr/local/lib/python3.10/dist-packages (from matplotlib~=3.0->cirq-core==1.4.1->cirq) (23.2)\n",
            "Requirement already satisfied: pillow>=6.2.0 in /usr/local/lib/python3.10/dist-packages (from matplotlib~=3.0->cirq-core==1.4.1->cirq) (11.0.0)\n",
            "Requirement already satisfied: pyparsing>=2.3.1 in /usr/local/lib/python3.10/dist-packages (from matplotlib~=3.0->cirq-core==1.4.1->cirq) (3.2.0)\n",
            "Requirement already satisfied: python-dateutil>=2.7 in /usr/local/lib/python3.10/dist-packages (from matplotlib~=3.0->cirq-core==1.4.1->cirq) (2.8.2)\n",
            "Requirement already satisfied: deprecated<2.0.0,>=1.2.14 in /usr/local/lib/python3.10/dist-packages (from pyquil<5.0.0,>=4.11.0->cirq-rigetti==1.4.1->cirq) (1.2.15)\n",
            "Requirement already satisfied: matplotlib-inline<0.2.0,>=0.1.7 in /usr/local/lib/python3.10/dist-packages (from pyquil<5.0.0,>=4.11.0->cirq-rigetti==1.4.1->cirq) (0.1.7)\n",
            "Requirement already satisfied: qcs-sdk-python>=0.20.1 in /usr/local/lib/python3.10/dist-packages (from pyquil<5.0.0,>=4.11.0->cirq-rigetti==1.4.1->cirq) (0.21.4)\n",
            "Requirement already satisfied: quil>=0.13.2 in /usr/local/lib/python3.10/dist-packages (from pyquil<5.0.0,>=4.11.0->cirq-rigetti==1.4.1->cirq) (0.13.2)\n",
            "Requirement already satisfied: rpcq<4.0.0,>=3.11.0 in /usr/local/lib/python3.10/dist-packages (from pyquil<5.0.0,>=4.11.0->cirq-rigetti==1.4.1->cirq) (3.11.0)\n",
            "Requirement already satisfied: types-deprecated<2.0.0.0,>=1.2.9.3 in /usr/local/lib/python3.10/dist-packages (from pyquil<5.0.0,>=4.11.0->cirq-rigetti==1.4.1->cirq) (1.2.15.20241117)\n",
            "Requirement already satisfied: charset-normalizer<4,>=2 in /usr/local/lib/python3.10/dist-packages (from requests~=2.18->cirq-aqt==1.4.1->cirq) (3.4.0)\n",
            "Requirement already satisfied: idna<4,>=2.5 in /usr/local/lib/python3.10/dist-packages (from requests~=2.18->cirq-aqt==1.4.1->cirq) (3.10)\n",
            "Requirement already satisfied: urllib3<3,>=1.21.1 in /usr/local/lib/python3.10/dist-packages (from requests~=2.18->cirq-aqt==1.4.1->cirq) (1.26.20)\n",
            "Requirement already satisfied: certifi>=2017.4.17 in /usr/local/lib/python3.10/dist-packages (from requests~=2.18->cirq-aqt==1.4.1->cirq) (2024.8.30)\n",
            "Requirement already satisfied: pytz>=2020.1 in /usr/local/lib/python3.10/dist-packages (from pandas->cirq-core==1.4.1->cirq) (2024.2)\n",
            "Requirement already satisfied: tzdata>=2022.7 in /usr/local/lib/python3.10/dist-packages (from pandas->cirq-core==1.4.1->cirq) (2024.2)\n",
            "Requirement already satisfied: mpmath<1.4,>=1.1.0 in /usr/local/lib/python3.10/dist-packages (from sympy->cirq-core==1.4.1->cirq) (1.3.0)\n",
            "Requirement already satisfied: wrapt<2,>=1.10 in /usr/local/lib/python3.10/dist-packages (from deprecated<2.0.0,>=1.2.14->pyquil<5.0.0,>=4.11.0->cirq-rigetti==1.4.1->cirq) (1.17.0)\n",
            "Requirement already satisfied: cachetools<6.0,>=2.0.0 in /usr/local/lib/python3.10/dist-packages (from google-auth<3.0.dev0,>=2.14.1->google-api-core>=1.14.0->google-api-core[grpc]>=1.14.0->cirq-google==1.4.1->cirq) (5.5.0)\n",
            "Requirement already satisfied: pyasn1-modules>=0.2.1 in /usr/local/lib/python3.10/dist-packages (from google-auth<3.0.dev0,>=2.14.1->google-api-core>=1.14.0->google-api-core[grpc]>=1.14.0->cirq-google==1.4.1->cirq) (0.4.1)\n",
            "Requirement already satisfied: rsa<5,>=3.1.4 in /usr/local/lib/python3.10/dist-packages (from google-auth<3.0.dev0,>=2.14.1->google-api-core>=1.14.0->google-api-core[grpc]>=1.14.0->cirq-google==1.4.1->cirq) (4.9)\n",
            "Requirement already satisfied: traitlets in /usr/local/lib/python3.10/dist-packages (from matplotlib-inline<0.2.0,>=0.1.7->pyquil<5.0.0,>=4.11.0->cirq-rigetti==1.4.1->cirq) (5.7.1)\n",
            "Requirement already satisfied: six>=1.5 in /usr/local/lib/python3.10/dist-packages (from python-dateutil>=2.7->matplotlib~=3.0->cirq-core==1.4.1->cirq) (1.17.0)\n",
            "Requirement already satisfied: qcs-api-client-common>=0.10.0 in /usr/local/lib/python3.10/dist-packages (from qcs-sdk-python>=0.20.1->pyquil<5.0.0,>=4.11.0->cirq-rigetti==1.4.1->cirq) (0.10.0)\n",
            "Requirement already satisfied: msgpack<2.0,>=0.6 in /usr/local/lib/python3.10/dist-packages (from rpcq<4.0.0,>=3.11.0->pyquil<5.0.0,>=4.11.0->cirq-rigetti==1.4.1->cirq) (1.1.0)\n",
            "Requirement already satisfied: python-rapidjson in /usr/local/lib/python3.10/dist-packages (from rpcq<4.0.0,>=3.11.0->pyquil<5.0.0,>=4.11.0->cirq-rigetti==1.4.1->cirq) (1.20)\n",
            "Requirement already satisfied: pyzmq>=17 in /usr/local/lib/python3.10/dist-packages (from rpcq<4.0.0,>=3.11.0->pyquil<5.0.0,>=4.11.0->cirq-rigetti==1.4.1->cirq) (24.0.1)\n",
            "Requirement already satisfied: ruamel.yaml in /usr/local/lib/python3.10/dist-packages (from rpcq<4.0.0,>=3.11.0->pyquil<5.0.0,>=4.11.0->cirq-rigetti==1.4.1->cirq) (0.18.6)\n",
            "Requirement already satisfied: pyasn1<0.7.0,>=0.4.6 in /usr/local/lib/python3.10/dist-packages (from pyasn1-modules>=0.2.1->google-auth<3.0.dev0,>=2.14.1->google-api-core>=1.14.0->google-api-core[grpc]>=1.14.0->cirq-google==1.4.1->cirq) (0.6.1)\n",
            "Requirement already satisfied: grpc-interceptor>=0.15.0 in /usr/local/lib/python3.10/dist-packages (from qcs-api-client-common>=0.10.0->qcs-sdk-python>=0.20.1->pyquil<5.0.0,>=4.11.0->cirq-rigetti==1.4.1->cirq) (0.15.4)\n",
            "Requirement already satisfied: httpx>=0.27.0 in /usr/local/lib/python3.10/dist-packages (from qcs-api-client-common>=0.10.0->qcs-sdk-python>=0.20.1->pyquil<5.0.0,>=4.11.0->cirq-rigetti==1.4.1->cirq) (0.28.1)\n",
            "Requirement already satisfied: ruamel.yaml.clib>=0.2.7 in /usr/local/lib/python3.10/dist-packages (from ruamel.yaml->rpcq<4.0.0,>=3.11.0->pyquil<5.0.0,>=4.11.0->cirq-rigetti==1.4.1->cirq) (0.2.12)\n",
            "Requirement already satisfied: anyio in /usr/local/lib/python3.10/dist-packages (from httpx>=0.27.0->qcs-api-client-common>=0.10.0->qcs-sdk-python>=0.20.1->pyquil<5.0.0,>=4.11.0->cirq-rigetti==1.4.1->cirq) (3.7.1)\n",
            "Requirement already satisfied: httpcore==1.* in /usr/local/lib/python3.10/dist-packages (from httpx>=0.27.0->qcs-api-client-common>=0.10.0->qcs-sdk-python>=0.20.1->pyquil<5.0.0,>=4.11.0->cirq-rigetti==1.4.1->cirq) (1.0.7)\n",
            "Requirement already satisfied: h11<0.15,>=0.13 in /usr/local/lib/python3.10/dist-packages (from httpcore==1.*->httpx>=0.27.0->qcs-api-client-common>=0.10.0->qcs-sdk-python>=0.20.1->pyquil<5.0.0,>=4.11.0->cirq-rigetti==1.4.1->cirq) (0.14.0)\n",
            "Requirement already satisfied: sniffio>=1.1 in /usr/local/lib/python3.10/dist-packages (from anyio->httpx>=0.27.0->qcs-api-client-common>=0.10.0->qcs-sdk-python>=0.20.1->pyquil<5.0.0,>=4.11.0->cirq-rigetti==1.4.1->cirq) (1.3.1)\n",
            "Requirement already satisfied: exceptiongroup in /usr/local/lib/python3.10/dist-packages (from anyio->httpx>=0.27.0->qcs-api-client-common>=0.10.0->qcs-sdk-python>=0.20.1->pyquil<5.0.0,>=4.11.0->cirq-rigetti==1.4.1->cirq) (1.2.2)\n"
          ]
        }
      ],
      "source": [
        "!pip3 install --upgrade cirq"
      ]
    },
    {
      "cell_type": "code",
      "execution_count": null,
      "metadata": {
        "colab": {
          "base_uri": "https://localhost:8080/"
        },
        "id": "eLTNb9CDszI2",
        "outputId": "8ea499f8-e283-4042-9611-d21afb7bd3b5"
      },
      "outputs": [
        {
          "output_type": "stream",
          "name": "stdout",
          "text": [
            "\u001b[31mERROR: Could not find a version that satisfies the requirement cirq.NamedQubit (from versions: none)\u001b[0m\u001b[31m\n",
            "\u001b[0m\u001b[31mERROR: No matching distribution found for cirq.NamedQubit\u001b[0m\u001b[31m\n",
            "\u001b[0m"
          ]
        }
      ],
      "source": [
        "!pip3 install cirq.NamedQubit"
      ]
    },
    {
      "cell_type": "code",
      "execution_count": null,
      "metadata": {
        "colab": {
          "base_uri": "https://localhost:8080/"
        },
        "id": "_RxTVppetUh5",
        "outputId": "b6df2e17-34f8-408a-b5b5-37a868b5f08d"
      },
      "outputs": [
        {
          "name": "stdout",
          "output_type": "stream",
          "text": [
            "Initializing Qiskit Runtime Service...\n",
            "Retrieving job result for job ID: cw55rf119rzg008tjksg...\n",
            "Job result structure: PrimitiveResult([<__main__.create_mock_job_result.<locals>.MockPubResult object at 0xd7c0625efb0>], metadata={})\n",
            "Measurement list converted: 983040 bits.\n",
            "Total unique measurement results counted: 8192.\n",
            "No matching private key found.\n",
            "No valid private key found in the results.\n"
          ]
        }
      ],
      "source": [
        "!cd /content/drive/MyDrive/Linux/PyNTRU/PyNTRU && python3 test-result.py"
      ]
    },
    {
      "cell_type": "code",
      "source": [
        "!pip3 install bit && pip3 install ice && pip3 install argparse && pip3 install base58 && pip3 install bitcoin && pip3 install pub && pip3 install requests && pip3 install ctypes"
      ],
      "metadata": {
        "colab": {
          "base_uri": "https://localhost:8080/",
          "height": 1000
        },
        "id": "oNN_f-4-LEva",
        "outputId": "1a340742-078b-482b-b0ba-f3a6a9e9f907"
      },
      "execution_count": 8,
      "outputs": [
        {
          "output_type": "stream",
          "name": "stdout",
          "text": [
            "Collecting bit\n",
            "  Downloading bit-0.8.0-py3-none-any.whl.metadata (4.9 kB)\n",
            "Collecting coincurve>=4.3.0 (from bit)\n",
            "  Downloading coincurve-20.0.0-cp310-cp310-manylinux_2_17_x86_64.manylinux2014_x86_64.whl.metadata (4.0 kB)\n",
            "Requirement already satisfied: requests in /usr/local/lib/python3.10/dist-packages (from bit) (2.32.3)\n",
            "Collecting asn1crypto (from coincurve>=4.3.0->bit)\n",
            "  Downloading asn1crypto-1.5.1-py2.py3-none-any.whl.metadata (13 kB)\n",
            "Requirement already satisfied: cffi>=1.3.0 in /usr/local/lib/python3.10/dist-packages (from coincurve>=4.3.0->bit) (1.17.1)\n",
            "Requirement already satisfied: charset-normalizer<4,>=2 in /usr/local/lib/python3.10/dist-packages (from requests->bit) (3.4.0)\n",
            "Requirement already satisfied: idna<4,>=2.5 in /usr/local/lib/python3.10/dist-packages (from requests->bit) (3.10)\n",
            "Requirement already satisfied: urllib3<3,>=1.21.1 in /usr/local/lib/python3.10/dist-packages (from requests->bit) (1.26.20)\n",
            "Requirement already satisfied: certifi>=2017.4.17 in /usr/local/lib/python3.10/dist-packages (from requests->bit) (2024.8.30)\n",
            "Requirement already satisfied: pycparser in /usr/local/lib/python3.10/dist-packages (from cffi>=1.3.0->coincurve>=4.3.0->bit) (2.22)\n",
            "Downloading bit-0.8.0-py3-none-any.whl (68 kB)\n",
            "\u001b[2K   \u001b[90m━━━━━━━━━━━━━━━━━━━━━━━━━━━━━━━━━━━━━━━━\u001b[0m \u001b[32m68.9/68.9 kB\u001b[0m \u001b[31m6.2 MB/s\u001b[0m eta \u001b[36m0:00:00\u001b[0m\n",
            "\u001b[?25hDownloading coincurve-20.0.0-cp310-cp310-manylinux_2_17_x86_64.manylinux2014_x86_64.whl (1.2 MB)\n",
            "\u001b[2K   \u001b[90m━━━━━━━━━━━━━━━━━━━━━━━━━━━━━━━━━━━━━━━━\u001b[0m \u001b[32m1.2/1.2 MB\u001b[0m \u001b[31m68.2 MB/s\u001b[0m eta \u001b[36m0:00:00\u001b[0m\n",
            "\u001b[?25hDownloading asn1crypto-1.5.1-py2.py3-none-any.whl (105 kB)\n",
            "\u001b[2K   \u001b[90m━━━━━━━━━━━━━━━━━━━━━━━━━━━━━━━━━━━━━━━━\u001b[0m \u001b[32m105.0/105.0 kB\u001b[0m \u001b[31m10.6 MB/s\u001b[0m eta \u001b[36m0:00:00\u001b[0m\n",
            "\u001b[?25hInstalling collected packages: asn1crypto, coincurve, bit\n",
            "Successfully installed asn1crypto-1.5.1 bit-0.8.0 coincurve-20.0.0\n",
            "Collecting ice\n",
            "  Downloading ice-0.0.2.tar.gz (20 kB)\n",
            "  Preparing metadata (setup.py) ... \u001b[?25l\u001b[?25hdone\n",
            "Building wheels for collected packages: ice\n",
            "  Building wheel for ice (setup.py) ... \u001b[?25l\u001b[?25hdone\n",
            "  Created wheel for ice: filename=ice-0.0.2-py3-none-any.whl size=11664 sha256=4f5070b2f162aa7e745e4a93e78674f762059d1b902b1f9fda6adaee22f7c4c5\n",
            "  Stored in directory: /root/.cache/pip/wheels/6c/66/d0/af65296dbeaaa9876682a13d683b53df92c35181f1441e822a\n",
            "Successfully built ice\n",
            "Installing collected packages: ice\n",
            "Successfully installed ice-0.0.2\n",
            "Collecting argparse\n",
            "  Downloading argparse-1.4.0-py2.py3-none-any.whl.metadata (2.8 kB)\n",
            "Downloading argparse-1.4.0-py2.py3-none-any.whl (23 kB)\n",
            "Installing collected packages: argparse\n",
            "Successfully installed argparse-1.4.0\n",
            "Requirement already satisfied: base58 in /usr/local/lib/python3.10/dist-packages (2.1.1)\n",
            "Requirement already satisfied: bitcoin in /usr/local/lib/python3.10/dist-packages (1.1.42)\n",
            "Collecting pub\n",
            "  Downloading pub-0.0.4.tar.gz (6.2 kB)\n",
            "  Preparing metadata (setup.py) ... \u001b[?25l\u001b[?25hdone\n",
            "Collecting path.py>=2.2 (from pub)\n",
            "  Downloading path.py-12.5.0-py3-none-any.whl.metadata (1.3 kB)\n",
            "Collecting envoy>=0.0.2 (from pub)\n",
            "  Downloading envoy-0.0.3-py2.py3-none-any.whl.metadata (1.4 kB)\n",
            "Requirement already satisfied: networkx>=1.6 in /usr/local/lib/python3.10/dist-packages (from pub) (3.4.2)\n",
            "Collecting path (from path.py>=2.2->pub)\n",
            "  Downloading path-17.0.0-py3-none-any.whl.metadata (6.4 kB)\n",
            "Downloading envoy-0.0.3-py2.py3-none-any.whl (5.0 kB)\n",
            "Downloading path.py-12.5.0-py3-none-any.whl (2.3 kB)\n",
            "Downloading path-17.0.0-py3-none-any.whl (24 kB)\n",
            "Building wheels for collected packages: pub\n",
            "  Building wheel for pub (setup.py) ... \u001b[?25l\u001b[?25hdone\n",
            "  Created wheel for pub: filename=pub-0.0.4-py3-none-any.whl size=5628 sha256=46fe61bab3f03916d282f813552a5e834f80eba8b8b25405f1ec61d0126dc4be\n",
            "  Stored in directory: /root/.cache/pip/wheels/fb/c6/6c/273a960e6427ff0320232b92872fb7846fef0b0b977889d70d\n",
            "Successfully built pub\n",
            "Installing collected packages: envoy, path, path.py, pub\n",
            "Successfully installed envoy-0.0.3 path-17.0.0 path.py-12.5.0 pub-0.0.4\n",
            "Requirement already satisfied: requests in /usr/local/lib/python3.10/dist-packages (2.32.3)\n",
            "Requirement already satisfied: charset-normalizer<4,>=2 in /usr/local/lib/python3.10/dist-packages (from requests) (3.4.0)\n",
            "Requirement already satisfied: idna<4,>=2.5 in /usr/local/lib/python3.10/dist-packages (from requests) (3.10)\n",
            "Requirement already satisfied: urllib3<3,>=1.21.1 in /usr/local/lib/python3.10/dist-packages (from requests) (1.26.20)\n",
            "Requirement already satisfied: certifi>=2017.4.17 in /usr/local/lib/python3.10/dist-packages (from requests) (2024.8.30)\n",
            "\u001b[31mERROR: Could not find a version that satisfies the requirement ctypes (from versions: none)\u001b[0m\u001b[31m\n",
            "\u001b[0m\u001b[31mERROR: No matching distribution found for ctypes\u001b[0m\u001b[31m\n",
            "\u001b[0m"
          ]
        },
        {
          "output_type": "display_data",
          "data": {
            "application/vnd.colab-display-data+json": {
              "pip_warning": {
                "packages": [
                  "argparse"
                ]
              },
              "id": "ed1067b26bc04194bf988309214afc17"
            }
          },
          "metadata": {}
        }
      ]
    },
    {
      "cell_type": "code",
      "source": [
        "!pip install cupy-cuda12x"
      ],
      "metadata": {
        "colab": {
          "base_uri": "https://localhost:8080/"
        },
        "id": "fHAWtKVbKv2b",
        "outputId": "3e4af788-833b-4709-c561-5c230254bb1a"
      },
      "execution_count": 9,
      "outputs": [
        {
          "output_type": "stream",
          "name": "stdout",
          "text": [
            "Requirement already satisfied: cupy-cuda12x in /usr/local/lib/python3.10/dist-packages (12.2.0)\n",
            "Requirement already satisfied: numpy<1.27,>=1.20 in /usr/local/lib/python3.10/dist-packages (from cupy-cuda12x) (1.26.4)\n",
            "Requirement already satisfied: fastrlock>=0.5 in /usr/local/lib/python3.10/dist-packages (from cupy-cuda12x) (0.8.2)\n"
          ]
        }
      ]
    },
    {
      "cell_type": "code",
      "source": [
        "!apt install cuda-cudart-11-8 -y"
      ],
      "metadata": {
        "colab": {
          "base_uri": "https://localhost:8080/"
        },
        "id": "QoH4dUBpKyAa",
        "outputId": "cfee95d2-b810-4227-e569-5757aa321ee4"
      },
      "execution_count": 10,
      "outputs": [
        {
          "output_type": "stream",
          "name": "stdout",
          "text": [
            "Reading package lists... Done\n",
            "Building dependency tree... Done\n",
            "Reading state information... Done\n",
            "The following additional packages will be installed:\n",
            "  cuda-toolkit-11-8-config-common cuda-toolkit-11-config-common\n",
            "The following NEW packages will be installed:\n",
            "  cuda-cudart-11-8 cuda-toolkit-11-8-config-common cuda-toolkit-11-config-common\n",
            "0 upgraded, 3 newly installed, 0 to remove and 49 not upgraded.\n",
            "Need to get 198 kB of archives.\n",
            "After this operation, 938 kB of additional disk space will be used.\n",
            "Get:1 https://developer.download.nvidia.com/compute/cuda/repos/ubuntu2204/x86_64  cuda-toolkit-11-config-common 11.8.89-1 [16.4 kB]\n",
            "Get:2 https://developer.download.nvidia.com/compute/cuda/repos/ubuntu2204/x86_64  cuda-toolkit-11-8-config-common 11.8.89-1 [16.3 kB]\n",
            "Get:3 https://developer.download.nvidia.com/compute/cuda/repos/ubuntu2204/x86_64  cuda-cudart-11-8 11.8.89-1 [165 kB]\n",
            "Fetched 198 kB in 0s (1,496 kB/s)\n",
            "Selecting previously unselected package cuda-toolkit-11-config-common.\n",
            "(Reading database ... 123633 files and directories currently installed.)\n",
            "Preparing to unpack .../cuda-toolkit-11-config-common_11.8.89-1_all.deb ...\n",
            "Unpacking cuda-toolkit-11-config-common (11.8.89-1) ...\n",
            "Selecting previously unselected package cuda-toolkit-11-8-config-common.\n",
            "Preparing to unpack .../cuda-toolkit-11-8-config-common_11.8.89-1_all.deb ...\n",
            "Unpacking cuda-toolkit-11-8-config-common (11.8.89-1) ...\n",
            "Selecting previously unselected package cuda-cudart-11-8.\n",
            "Preparing to unpack .../cuda-cudart-11-8_11.8.89-1_amd64.deb ...\n",
            "Unpacking cuda-cudart-11-8 (11.8.89-1) ...\n",
            "Setting up cuda-toolkit-11-config-common (11.8.89-1) ...\n",
            "Setting up cuda-toolkit-11-8-config-common (11.8.89-1) ...\n",
            "Setting alternatives\n",
            "update-alternatives: using /usr/local/cuda-11.8 to provide /usr/local/cuda-11 (cuda-11) in auto mode\n",
            "Setting up cuda-cudart-11-8 (11.8.89-1) ...\n",
            "Processing triggers for libc-bin (2.35-0ubuntu3.4) ...\n",
            "/sbin/ldconfig.real: /usr/local/lib/libur_adapter_opencl.so.0 is not a symbolic link\n",
            "\n",
            "/sbin/ldconfig.real: /usr/local/lib/libur_loader.so.0 is not a symbolic link\n",
            "\n",
            "/sbin/ldconfig.real: /usr/local/lib/libtcm.so.1 is not a symbolic link\n",
            "\n",
            "/sbin/ldconfig.real: /usr/local/lib/libumf.so.0 is not a symbolic link\n",
            "\n",
            "/sbin/ldconfig.real: /usr/local/lib/libtbbbind_2_5.so.3 is not a symbolic link\n",
            "\n",
            "/sbin/ldconfig.real: /usr/local/lib/libtbbbind_2_0.so.3 is not a symbolic link\n",
            "\n",
            "/sbin/ldconfig.real: /usr/local/lib/libtbbbind.so.3 is not a symbolic link\n",
            "\n",
            "/sbin/ldconfig.real: /usr/local/lib/libhwloc.so.15 is not a symbolic link\n",
            "\n",
            "/sbin/ldconfig.real: /usr/local/lib/libtbbmalloc_proxy.so.2 is not a symbolic link\n",
            "\n",
            "/sbin/ldconfig.real: /usr/local/lib/libur_adapter_level_zero.so.0 is not a symbolic link\n",
            "\n",
            "/sbin/ldconfig.real: /usr/local/lib/libtbb.so.12 is not a symbolic link\n",
            "\n",
            "/sbin/ldconfig.real: /usr/local/lib/libtbbmalloc.so.2 is not a symbolic link\n",
            "\n",
            "/sbin/ldconfig.real: /usr/local/lib/libtcm_debug.so.1 is not a symbolic link\n",
            "\n"
          ]
        }
      ]
    },
    {
      "cell_type": "code",
      "execution_count": 11,
      "metadata": {
        "colab": {
          "base_uri": "https://localhost:8080/"
        },
        "id": "5DpG2KDbTjNd",
        "outputId": "0fae05b9-49f5-4d17-9f63-1dcedcdd1c40"
      },
      "outputs": [
        {
          "output_type": "stream",
          "name": "stdout",
          "text": [
            "Collecting qiskit.algorithms\n",
            "  Downloading qiskit_algorithms-0.3.1-py3-none-any.whl.metadata (4.2 kB)\n",
            "Requirement already satisfied: qiskit>=0.44 in /usr/local/lib/python3.10/dist-packages (from qiskit.algorithms) (1.3.0)\n",
            "Requirement already satisfied: scipy>=1.4 in /usr/local/lib/python3.10/dist-packages (from qiskit.algorithms) (1.13.1)\n",
            "Requirement already satisfied: numpy>=1.17 in /usr/local/lib/python3.10/dist-packages (from qiskit.algorithms) (1.26.4)\n",
            "Requirement already satisfied: rustworkx>=0.15.0 in /usr/local/lib/python3.10/dist-packages (from qiskit>=0.44->qiskit.algorithms) (0.15.1)\n",
            "Requirement already satisfied: sympy>=1.3 in /usr/local/lib/python3.10/dist-packages (from qiskit>=0.44->qiskit.algorithms) (1.13.1)\n",
            "Requirement already satisfied: dill>=0.3 in /usr/local/lib/python3.10/dist-packages (from qiskit>=0.44->qiskit.algorithms) (0.3.9)\n",
            "Requirement already satisfied: python-dateutil>=2.8.0 in /usr/local/lib/python3.10/dist-packages (from qiskit>=0.44->qiskit.algorithms) (2.8.2)\n",
            "Requirement already satisfied: stevedore>=3.0.0 in /usr/local/lib/python3.10/dist-packages (from qiskit>=0.44->qiskit.algorithms) (5.4.0)\n",
            "Requirement already satisfied: typing-extensions in /usr/local/lib/python3.10/dist-packages (from qiskit>=0.44->qiskit.algorithms) (4.12.2)\n",
            "Requirement already satisfied: symengine<0.14,>=0.11 in /usr/local/lib/python3.10/dist-packages (from qiskit>=0.44->qiskit.algorithms) (0.13.0)\n",
            "Requirement already satisfied: six>=1.5 in /usr/local/lib/python3.10/dist-packages (from python-dateutil>=2.8.0->qiskit>=0.44->qiskit.algorithms) (1.17.0)\n",
            "Requirement already satisfied: pbr>=2.0.0 in /usr/local/lib/python3.10/dist-packages (from stevedore>=3.0.0->qiskit>=0.44->qiskit.algorithms) (6.1.0)\n",
            "Requirement already satisfied: mpmath<1.4,>=1.1.0 in /usr/local/lib/python3.10/dist-packages (from sympy>=1.3->qiskit>=0.44->qiskit.algorithms) (1.3.0)\n",
            "Downloading qiskit_algorithms-0.3.1-py3-none-any.whl (310 kB)\n",
            "\u001b[?25l   \u001b[90m━━━━━━━━━━━━━━━━━━━━━━━━━━━━━━━━━━━━━━━━\u001b[0m \u001b[32m0.0/310.5 kB\u001b[0m \u001b[31m?\u001b[0m eta \u001b[36m-:--:--\u001b[0m\r\u001b[2K   \u001b[90m━━━━━━━━━━━━━━━━━━━━━━━━━━━━━━━━━━━━━━━━\u001b[0m \u001b[32m310.5/310.5 kB\u001b[0m \u001b[31m19.3 MB/s\u001b[0m eta \u001b[36m0:00:00\u001b[0m\n",
            "\u001b[?25hInstalling collected packages: qiskit.algorithms\n",
            "Successfully installed qiskit.algorithms-0.3.1\n"
          ]
        }
      ],
      "source": [
        "!pip3 install qiskit.algorithms"
      ]
    },
    {
      "cell_type": "code",
      "execution_count": 12,
      "metadata": {
        "colab": {
          "base_uri": "https://localhost:8080/"
        },
        "id": "-ZX_oqYwp8Z4",
        "outputId": "0c1e1c42-ae42-4cbb-f47c-083ec402b202"
      },
      "outputs": [
        {
          "output_type": "stream",
          "name": "stdout",
          "text": [
            "Collecting qiskit-Aer\n",
            "  Downloading qiskit_aer-0.15.1-cp310-cp310-manylinux_2_17_x86_64.manylinux2014_x86_64.whl.metadata (8.0 kB)\n",
            "Requirement already satisfied: qiskit>=1.1.0 in /usr/local/lib/python3.10/dist-packages (from qiskit-Aer) (1.3.0)\n",
            "Requirement already satisfied: numpy>=1.16.3 in /usr/local/lib/python3.10/dist-packages (from qiskit-Aer) (1.26.4)\n",
            "Requirement already satisfied: scipy>=1.0 in /usr/local/lib/python3.10/dist-packages (from qiskit-Aer) (1.13.1)\n",
            "Requirement already satisfied: psutil>=5 in /usr/local/lib/python3.10/dist-packages (from qiskit-Aer) (5.9.5)\n",
            "Requirement already satisfied: rustworkx>=0.15.0 in /usr/local/lib/python3.10/dist-packages (from qiskit>=1.1.0->qiskit-Aer) (0.15.1)\n",
            "Requirement already satisfied: sympy>=1.3 in /usr/local/lib/python3.10/dist-packages (from qiskit>=1.1.0->qiskit-Aer) (1.13.1)\n",
            "Requirement already satisfied: dill>=0.3 in /usr/local/lib/python3.10/dist-packages (from qiskit>=1.1.0->qiskit-Aer) (0.3.9)\n",
            "Requirement already satisfied: python-dateutil>=2.8.0 in /usr/local/lib/python3.10/dist-packages (from qiskit>=1.1.0->qiskit-Aer) (2.8.2)\n",
            "Requirement already satisfied: stevedore>=3.0.0 in /usr/local/lib/python3.10/dist-packages (from qiskit>=1.1.0->qiskit-Aer) (5.4.0)\n",
            "Requirement already satisfied: typing-extensions in /usr/local/lib/python3.10/dist-packages (from qiskit>=1.1.0->qiskit-Aer) (4.12.2)\n",
            "Requirement already satisfied: symengine<0.14,>=0.11 in /usr/local/lib/python3.10/dist-packages (from qiskit>=1.1.0->qiskit-Aer) (0.13.0)\n",
            "Requirement already satisfied: six>=1.5 in /usr/local/lib/python3.10/dist-packages (from python-dateutil>=2.8.0->qiskit>=1.1.0->qiskit-Aer) (1.17.0)\n",
            "Requirement already satisfied: pbr>=2.0.0 in /usr/local/lib/python3.10/dist-packages (from stevedore>=3.0.0->qiskit>=1.1.0->qiskit-Aer) (6.1.0)\n",
            "Requirement already satisfied: mpmath<1.4,>=1.1.0 in /usr/local/lib/python3.10/dist-packages (from sympy>=1.3->qiskit>=1.1.0->qiskit-Aer) (1.3.0)\n",
            "Downloading qiskit_aer-0.15.1-cp310-cp310-manylinux_2_17_x86_64.manylinux2014_x86_64.whl (12.3 MB)\n",
            "\u001b[2K   \u001b[90m━━━━━━━━━━━━━━━━━━━━━━━━━━━━━━━━━━━━━━━━\u001b[0m \u001b[32m12.3/12.3 MB\u001b[0m \u001b[31m65.4 MB/s\u001b[0m eta \u001b[36m0:00:00\u001b[0m\n",
            "\u001b[?25hInstalling collected packages: qiskit-Aer\n",
            "Successfully installed qiskit-Aer-0.15.1\n"
          ]
        }
      ],
      "source": [
        "!pip install qiskit-Aer"
      ]
    },
    {
      "cell_type": "code",
      "source": [
        "!pip3 install matplotlib"
      ],
      "metadata": {
        "colab": {
          "base_uri": "https://localhost:8080/"
        },
        "id": "M0I1s5H1iIz_",
        "outputId": "caccd220-b2e0-4404-e98a-87a2c67e04e5"
      },
      "execution_count": 13,
      "outputs": [
        {
          "output_type": "stream",
          "name": "stdout",
          "text": [
            "Requirement already satisfied: matplotlib in /usr/local/lib/python3.10/dist-packages (3.8.0)\n",
            "Requirement already satisfied: contourpy>=1.0.1 in /usr/local/lib/python3.10/dist-packages (from matplotlib) (1.3.1)\n",
            "Requirement already satisfied: cycler>=0.10 in /usr/local/lib/python3.10/dist-packages (from matplotlib) (0.12.1)\n",
            "Requirement already satisfied: fonttools>=4.22.0 in /usr/local/lib/python3.10/dist-packages (from matplotlib) (4.55.2)\n",
            "Requirement already satisfied: kiwisolver>=1.0.1 in /usr/local/lib/python3.10/dist-packages (from matplotlib) (1.4.7)\n",
            "Requirement already satisfied: numpy<2,>=1.21 in /usr/local/lib/python3.10/dist-packages (from matplotlib) (1.26.4)\n",
            "Requirement already satisfied: packaging>=20.0 in /usr/local/lib/python3.10/dist-packages (from matplotlib) (23.2)\n",
            "Requirement already satisfied: pillow>=6.2.0 in /usr/local/lib/python3.10/dist-packages (from matplotlib) (11.0.0)\n",
            "Requirement already satisfied: pyparsing>=2.3.1 in /usr/local/lib/python3.10/dist-packages (from matplotlib) (3.2.0)\n",
            "Requirement already satisfied: python-dateutil>=2.7 in /usr/local/lib/python3.10/dist-packages (from matplotlib) (2.8.2)\n",
            "Requirement already satisfied: six>=1.5 in /usr/local/lib/python3.10/dist-packages (from python-dateutil>=2.7->matplotlib) (1.17.0)\n"
          ]
        }
      ]
    },
    {
      "cell_type": "code",
      "source": [
        "!pip3 install -U qiskit"
      ],
      "metadata": {
        "colab": {
          "base_uri": "https://localhost:8080/"
        },
        "id": "LC3qBXBi3Bwk",
        "outputId": "6e0dce83-e99c-4850-9441-6e605e90df44"
      },
      "execution_count": 14,
      "outputs": [
        {
          "output_type": "stream",
          "name": "stdout",
          "text": [
            "Requirement already satisfied: qiskit in /usr/local/lib/python3.10/dist-packages (1.3.0)\n",
            "Requirement already satisfied: rustworkx>=0.15.0 in /usr/local/lib/python3.10/dist-packages (from qiskit) (0.15.1)\n",
            "Requirement already satisfied: numpy<3,>=1.17 in /usr/local/lib/python3.10/dist-packages (from qiskit) (1.26.4)\n",
            "Requirement already satisfied: scipy>=1.5 in /usr/local/lib/python3.10/dist-packages (from qiskit) (1.13.1)\n",
            "Requirement already satisfied: sympy>=1.3 in /usr/local/lib/python3.10/dist-packages (from qiskit) (1.13.1)\n",
            "Requirement already satisfied: dill>=0.3 in /usr/local/lib/python3.10/dist-packages (from qiskit) (0.3.9)\n",
            "Requirement already satisfied: python-dateutil>=2.8.0 in /usr/local/lib/python3.10/dist-packages (from qiskit) (2.8.2)\n",
            "Requirement already satisfied: stevedore>=3.0.0 in /usr/local/lib/python3.10/dist-packages (from qiskit) (5.4.0)\n",
            "Requirement already satisfied: typing-extensions in /usr/local/lib/python3.10/dist-packages (from qiskit) (4.12.2)\n",
            "Requirement already satisfied: symengine<0.14,>=0.11 in /usr/local/lib/python3.10/dist-packages (from qiskit) (0.13.0)\n",
            "Requirement already satisfied: six>=1.5 in /usr/local/lib/python3.10/dist-packages (from python-dateutil>=2.8.0->qiskit) (1.17.0)\n",
            "Requirement already satisfied: pbr>=2.0.0 in /usr/local/lib/python3.10/dist-packages (from stevedore>=3.0.0->qiskit) (6.1.0)\n",
            "Requirement already satisfied: mpmath<1.4,>=1.1.0 in /usr/local/lib/python3.10/dist-packages (from sympy>=1.3->qiskit) (1.3.0)\n"
          ]
        }
      ]
    },
    {
      "cell_type": "code",
      "source": [
        "!cd /content/drive/MyDrive/ && git clone https://github.com/threealgos/Quantum-CRACKER.git"
      ],
      "metadata": {
        "colab": {
          "base_uri": "https://localhost:8080/"
        },
        "id": "QyXvbZ46qF2B",
        "outputId": "02872c51-4294-4672-f80f-39917f01132c"
      },
      "execution_count": 15,
      "outputs": [
        {
          "output_type": "stream",
          "name": "stdout",
          "text": [
            "Cloning into 'Quantum-CRACKER'...\n",
            "remote: Enumerating objects: 151, done.\u001b[K\n",
            "remote: Total 151 (delta 0), reused 0 (delta 0), pack-reused 151 (from 2)\u001b[K\n",
            "Receiving objects: 100% (151/151), 670.10 KiB | 8.07 MiB/s, done.\n",
            "Resolving deltas: 100% (83/83), done.\n"
          ]
        }
      ]
    },
    {
      "cell_type": "code",
      "source": [
        "!cd /content/drive/MyDrive/Quantum-CRACKER/ && python3 Grover-ibm.py"
      ],
      "metadata": {
        "colab": {
          "base_uri": "https://localhost:8080/"
        },
        "id": "oTNmRLdGIcnE",
        "outputId": "9a6f3cc3-933f-4006-ec1d-bf130c43c15d"
      },
      "execution_count": 16,
      "outputs": [
        {
          "output_type": "stream",
          "name": "stdout",
          "text": [
            " Grover-ibm.py\n",
            " ibm.jpg\n",
            "'please i hope somone will appreciate the work and donate BTC 1NEJcwfcEm7Aax8oJNjRUnY3hEavCjNrai'\n",
            " Quantum_All.ipynb\n",
            " README.md\n"
          ]
        }
      ]
    }
  ],
  "metadata": {
    "colab": {
      "gpuType": "T4",
      "provenance": []
    },
    "kernelspec": {
      "display_name": "Python 3",
      "name": "python3"
    },
    "accelerator": "GPU"
  },
  "nbformat": 4,
  "nbformat_minor": 0
}